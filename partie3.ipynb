{
 "cells": [
  {
   "cell_type": "markdown",
   "metadata": {},
   "source": [
    "# Network Analysis for Information Retrieval - Part 3\n",
    "\n",
    "Elyes KHALFALLAH & Mohammed ali EL ADLOUNI\n",
    "\n",
    "16/03/2025\n",
    "\n",
    "---\n",
    "\n",
    "---\n"
   ]
  },
  {
   "cell_type": "markdown",
   "metadata": {},
   "source": [
    "## Exercice 7 : Prise en compte de la structure du corpus\n"
   ]
  },
  {
   "cell_type": "code",
   "execution_count": 1,
   "metadata": {},
   "outputs": [],
   "source": [
    "# Useful libraries\n",
    "from fonctions import *\n",
    "import numpy as np\n",
    "import pandas as pd\n",
    "import matplotlib.pyplot as plt\n",
    "import matplotlib.cm as cm\n",
    "import matplotlib.colors as mcolors\n",
    "import networkx as nx\n",
    "import ipysigma as sigma\n",
    "import random\n",
    "import community.community_louvain as community_louvain\n",
    "from sklearn.cluster import KMeans, SpectralClustering\n",
    "from sklearn.decomposition import PCA, TruncatedSVD\n",
    "from sklearn.manifold import TSNE\n",
    "from sklearn.preprocessing import StandardScaler\n",
    "from sklearn.feature_extraction.text import TfidfVectorizer\n",
    "from scipy.sparse import csr_matrix\n",
    "from scipy.linalg import eigh\n"
   ]
  },
  {
   "cell_type": "code",
   "execution_count": 2,
   "metadata": {},
   "outputs": [
    {
     "name": "stdout",
     "output_type": "stream",
     "text": [
      "(40596, 10)\n",
      "<class 'pandas.core.frame.DataFrame'>\n",
      "RangeIndex: 40596 entries, 0 to 40595\n",
      "Data columns (total 10 columns):\n",
      " #   Column      Non-Null Count  Dtype \n",
      "---  ------      --------------  ----- \n",
      " 0   text        36172 non-null  object\n",
      " 1   venue       40596 non-null  object\n",
      " 2   abstract    18013 non-null  object\n",
      " 3   authors     40596 non-null  object\n",
      " 4   n_citation  40596 non-null  int64 \n",
      " 5   references  27246 non-null  object\n",
      " 6   title       40596 non-null  object\n",
      " 7   year        40596 non-null  int64 \n",
      " 8   id          40596 non-null  object\n",
      " 9   class       40596 non-null  int64 \n",
      "dtypes: int64(3), object(7)\n",
      "memory usage: 3.1+ MB\n"
     ]
    }
   ],
   "source": [
    "# Load data\n",
    "data_text = pd.read_csv(\"data_text.csv\")\n",
    "print(data_text.shape)\n",
    "\n",
    "data_text.info()\n"
   ]
  },
  {
   "cell_type": "code",
   "execution_count": 3,
   "metadata": {},
   "outputs": [
    {
     "data": {
      "text/html": [
       "<div>\n",
       "<style scoped>\n",
       "    .dataframe tbody tr th:only-of-type {\n",
       "        vertical-align: middle;\n",
       "    }\n",
       "\n",
       "    .dataframe tbody tr th {\n",
       "        vertical-align: top;\n",
       "    }\n",
       "\n",
       "    .dataframe thead th {\n",
       "        text-align: right;\n",
       "    }\n",
       "</style>\n",
       "<table border=\"1\" class=\"dataframe\">\n",
       "  <thead>\n",
       "    <tr style=\"text-align: right;\">\n",
       "      <th></th>\n",
       "      <th>text</th>\n",
       "      <th>venue</th>\n",
       "      <th>abstract</th>\n",
       "      <th>authors</th>\n",
       "      <th>n_citation</th>\n",
       "      <th>references</th>\n",
       "      <th>title</th>\n",
       "      <th>year</th>\n",
       "      <th>id</th>\n",
       "      <th>class</th>\n",
       "    </tr>\n",
       "  </thead>\n",
       "  <tbody>\n",
       "    <tr>\n",
       "      <th>0</th>\n",
       "      <td>comprehension school mind school studying col</td>\n",
       "      <td>international conference on human-computer int...</td>\n",
       "      <td>The purpose of this study is to develop a lear...</td>\n",
       "      <td>['Makoto Satoh', 'Ryo Muramatsu', 'Mizue Kayam...</td>\n",
       "      <td>0</td>\n",
       "      <td>['51c7e02e-f5ed-431a-8cf5-f761f266d4be', '69b6...</td>\n",
       "      <td>Preliminary Design of a Network Protocol Learn...</td>\n",
       "      <td>2013</td>\n",
       "      <td>00127ee2-cb05-48ce-bc49-9de556b93346</td>\n",
       "      <td>3</td>\n",
       "    </tr>\n",
       "    <tr>\n",
       "      <th>1</th>\n",
       "      <td>physically visualisation roman visualisation h...</td>\n",
       "      <td>visual analytics science and technology</td>\n",
       "      <td>This paper describes the design and implementa...</td>\n",
       "      <td>['Gareth Beale', 'Graeme Earl']</td>\n",
       "      <td>50</td>\n",
       "      <td>['10482dd3-4642-4193-842f-85f3b70fcf65', '3133...</td>\n",
       "      <td>A methodology for the physically accurate visu...</td>\n",
       "      <td>2011</td>\n",
       "      <td>001c58d3-26ad-46b3-ab3a-c1e557d16821</td>\n",
       "      <td>3</td>\n",
       "    </tr>\n",
       "    <tr>\n",
       "      <th>2</th>\n",
       "      <td>financial ar arma bp forecasting international...</td>\n",
       "      <td>pattern recognition and machine intelligence</td>\n",
       "      <td>This article applied GARCH model instead AR or...</td>\n",
       "      <td>['Altaf Hossain', 'Faisal Zaman', 'Mohammed Na...</td>\n",
       "      <td>50</td>\n",
       "      <td>['2d84c0f2-e656-4ce7-b018-90eda1c132fe', 'a083...</td>\n",
       "      <td>Comparison of GARCH, Neural Network and Suppor...</td>\n",
       "      <td>2009</td>\n",
       "      <td>001c8744-73c4-4b04-9364-22d31a10dbf1</td>\n",
       "      <td>4</td>\n",
       "    </tr>\n",
       "    <tr>\n",
       "      <th>3</th>\n",
       "      <td>simplify</td>\n",
       "      <td>international conference on computer graphics ...</td>\n",
       "      <td>NaN</td>\n",
       "      <td>['Rafael Álvarez', 'Leandro Tortosa', 'José-Fr...</td>\n",
       "      <td>0</td>\n",
       "      <td>NaN</td>\n",
       "      <td>COMPARING GNG3D AND QUADRIC ERROR METRICS METH...</td>\n",
       "      <td>2009</td>\n",
       "      <td>005ce28f-ed77-4e97-afdc-a296137186a1</td>\n",
       "      <td>5</td>\n",
       "    </tr>\n",
       "    <tr>\n",
       "      <th>4</th>\n",
       "      <td>secret</td>\n",
       "      <td>international symposium on computer and inform...</td>\n",
       "      <td>NaN</td>\n",
       "      <td>['Guzin Ulutas', 'Mustafa Ulutas', 'Vasif V. N...</td>\n",
       "      <td>0</td>\n",
       "      <td>['5626736c-e434-4e2d-8405-54940fab88ab', '8e87...</td>\n",
       "      <td>Improved Secret Image Sharing Method By Encodi...</td>\n",
       "      <td>2011</td>\n",
       "      <td>00701b05-684f-45f9-b281-425abfec482c</td>\n",
       "      <td>8</td>\n",
       "    </tr>\n",
       "  </tbody>\n",
       "</table>\n",
       "</div>"
      ],
      "text/plain": [
       "                                                text  \\\n",
       "0      comprehension school mind school studying col   \n",
       "1  physically visualisation roman visualisation h...   \n",
       "2  financial ar arma bp forecasting international...   \n",
       "3                                           simplify   \n",
       "4                                             secret   \n",
       "\n",
       "                                               venue  \\\n",
       "0  international conference on human-computer int...   \n",
       "1            visual analytics science and technology   \n",
       "2       pattern recognition and machine intelligence   \n",
       "3  international conference on computer graphics ...   \n",
       "4  international symposium on computer and inform...   \n",
       "\n",
       "                                            abstract  \\\n",
       "0  The purpose of this study is to develop a lear...   \n",
       "1  This paper describes the design and implementa...   \n",
       "2  This article applied GARCH model instead AR or...   \n",
       "3                                                NaN   \n",
       "4                                                NaN   \n",
       "\n",
       "                                             authors  n_citation  \\\n",
       "0  ['Makoto Satoh', 'Ryo Muramatsu', 'Mizue Kayam...           0   \n",
       "1                    ['Gareth Beale', 'Graeme Earl']          50   \n",
       "2  ['Altaf Hossain', 'Faisal Zaman', 'Mohammed Na...          50   \n",
       "3  ['Rafael Álvarez', 'Leandro Tortosa', 'José-Fr...           0   \n",
       "4  ['Guzin Ulutas', 'Mustafa Ulutas', 'Vasif V. N...           0   \n",
       "\n",
       "                                          references  \\\n",
       "0  ['51c7e02e-f5ed-431a-8cf5-f761f266d4be', '69b6...   \n",
       "1  ['10482dd3-4642-4193-842f-85f3b70fcf65', '3133...   \n",
       "2  ['2d84c0f2-e656-4ce7-b018-90eda1c132fe', 'a083...   \n",
       "3                                                NaN   \n",
       "4  ['5626736c-e434-4e2d-8405-54940fab88ab', '8e87...   \n",
       "\n",
       "                                               title  year  \\\n",
       "0  Preliminary Design of a Network Protocol Learn...  2013   \n",
       "1  A methodology for the physically accurate visu...  2011   \n",
       "2  Comparison of GARCH, Neural Network and Suppor...  2009   \n",
       "3  COMPARING GNG3D AND QUADRIC ERROR METRICS METH...  2009   \n",
       "4  Improved Secret Image Sharing Method By Encodi...  2011   \n",
       "\n",
       "                                     id  class  \n",
       "0  00127ee2-cb05-48ce-bc49-9de556b93346      3  \n",
       "1  001c58d3-26ad-46b3-ab3a-c1e557d16821      3  \n",
       "2  001c8744-73c4-4b04-9364-22d31a10dbf1      4  \n",
       "3  005ce28f-ed77-4e97-afdc-a296137186a1      5  \n",
       "4  00701b05-684f-45f9-b281-425abfec482c      8  "
      ]
     },
     "execution_count": 3,
     "metadata": {},
     "output_type": "execute_result"
    }
   ],
   "source": [
    "data_text.head()\n"
   ]
  },
  {
   "cell_type": "markdown",
   "metadata": {},
   "source": [
    "---\n",
    "\n",
    "## 7.1. : Matrice d'adjacence\n"
   ]
  },
  {
   "cell_type": "code",
   "execution_count": 4,
   "metadata": {},
   "outputs": [
    {
     "name": "stdout",
     "output_type": "stream",
     "text": [
      "len(venue_codes)   = 40596\n",
      "len(unique_venues) = 1701\n",
      "venue_codes = array([  0,   1,   2, ...,  45, 566, 879], shape=(40596,))\n",
      "\n",
      "1701\n",
      "n_articles = 40596\n"
     ]
    }
   ],
   "source": [
    "# Factorize the 'venue' column to get numeric codes\n",
    "# n : number of documents\n",
    "# unique_venues : list of unique venues\n",
    "\n",
    "\n",
    "venue_codes, unique_venues = pd.factorize(data_text[\"venue\"])\n",
    "\n",
    "\n",
    "print(f\"{len(venue_codes)   = }\")\n",
    "\n",
    "\n",
    "print(f\"{len(unique_venues) = }\")\n",
    "\n",
    "\n",
    "print(f\"{venue_codes = }\\n\")\n",
    "print(len(unique_venues))\n",
    "\n",
    "\n",
    "n_articles = len(data_text)\n",
    "print(f\"{n_articles = }\")\n"
   ]
  },
  {
   "cell_type": "code",
   "execution_count": 5,
   "metadata": {},
   "outputs": [],
   "source": [
    "# Create a sparse indicator matrix: each article (row) gets a 1 at its venue (column)\n",
    "data = np.ones(n_articles, dtype=int)\n",
    "row_indices = np.arange(n_articles)\n",
    "col_indices = venue_codes\n",
    "\n",
    "# Build the sparse matrix (shape: [n_articles x n_unique_venues])\n",
    "M = csr_matrix(\n",
    "    (data, (row_indices, col_indices)), shape=(n_articles, len(unique_venues))\n",
    ")\n",
    "\n",
    "# Compute the adjacency matrix as the dot product of M with its transpose\n",
    "# Each off-diagonal entry is 1 if the two articles share the same venue; diagonal entries are 1 as well.\n",
    "adjacency_matrix = M.dot(M.T)\n",
    "\n",
    "# If needed, convert to a dense NumPy array (note: this might be memory intensive for large n)\n",
    "# adjacency_dense = adjacency_matrix.toarray()\n"
   ]
  },
  {
   "cell_type": "code",
   "execution_count": 6,
   "metadata": {},
   "outputs": [
    {
     "name": "stdout",
     "output_type": "stream",
     "text": [
      "(40596, 40596)\n"
     ]
    }
   ],
   "source": [
    "print(adjacency_matrix.shape)\n",
    "# print(adjacency_matrix)\n"
   ]
  },
  {
   "cell_type": "markdown",
   "metadata": {},
   "source": [
    "---\n",
    "\n",
    "## 7.2. : Creation et statistiques du graphe\n"
   ]
  },
  {
   "cell_type": "code",
   "execution_count": 7,
   "metadata": {},
   "outputs": [],
   "source": [
    "# Convert the sparse adjacency matrix to a NetworkX graph.\n",
    "# Each node corresponds to an article.\n",
    "G = nx.from_scipy_sparse_array(adjacency_matrix)\n"
   ]
  },
  {
   "cell_type": "code",
   "execution_count": 8,
   "metadata": {},
   "outputs": [],
   "source": [
    "# --- Degree Distribution ---\n",
    "# Get degrees of all nodes.\n",
    "degrees = [degree for node, degree in G.degree()]\n",
    "\n",
    "# Compute a histogram of degrees.\n",
    "hist, bin_edges = np.histogram(degrees, bins=range(max(degrees) + 2))\n",
    "\n",
    "# print(\"Degree Distribution:\")\n",
    "# for deg, count in zip(bin_edges[:-1], hist):\n",
    "#     print(f\"Degree {deg:4.0f}: {count} nodes\")\n",
    "\n",
    "# # Optionally, plot the degree distribution.\n",
    "# plt.figure(figsize=(8, 5))\n",
    "# plt.bar(bin_edges[:-1], hist, width=0.8, align=\"center\")\n",
    "# plt.xlabel(\"Degree\")\n",
    "# plt.ylabel(\"Number of Nodes\")\n",
    "# plt.title(\"Degree Distribution\")\n",
    "# plt.show()\n"
   ]
  },
  {
   "cell_type": "code",
   "execution_count": 9,
   "metadata": {},
   "outputs": [
    {
     "name": "stdout",
     "output_type": "stream",
     "text": [
      "Graph Density: 0.006825693399411704\n"
     ]
    }
   ],
   "source": [
    "# --- Graph Density ---\n",
    "density = nx.density(G)\n",
    "print(\"Graph Density:\", density)\n"
   ]
  },
  {
   "cell_type": "code",
   "execution_count": 10,
   "metadata": {},
   "outputs": [
    {
     "name": "stdout",
     "output_type": "stream",
     "text": [
      "Graph Width (Maximum Degree): 2316\n"
     ]
    }
   ],
   "source": [
    "# --- Graph Width ---\n",
    "# Here, 'width' can be interpreted in a couple of ways.\n",
    "# For example, you might consider the maximum degree as a measure of the graph's width.\n",
    "max_degree = max(degrees)\n",
    "print(\"Graph Width (Maximum Degree):\", max_degree)\n"
   ]
  },
  {
   "cell_type": "code",
   "execution_count": 11,
   "metadata": {},
   "outputs": [
    {
     "name": "stdout",
     "output_type": "stream",
     "text": [
      "Graph is not fully connected. Diameters of connected components: [1, 1, 1, 1, 1, 1, 1, 1, 1, 1, 1, 1, 1, 1, 1, 1, 1, 1, 1, 1, 1, 1, 1, 1, 1, 1, 1, 1, 1, 1, 1, 1, 1, 1, 1, 1, 1, 1, 1, 1, 1, 1, 1, 1, 1, 1, 1, 1, 1, 1, 1, 1, 1, 1, 1, 1, 1, 1, 1, 1, 1, 1, 1, 1, 1, 1, 1, 1, 1, 1, 1, 1, 1, 1, 1, 1, 1, 1, 1, 1, 1, 1, 1, 1, 1, 1, 1, 1, 1, 1, 1, 1, 1, 1, 1, 1, 1, 1, 1, 1, 1, 1, 1, 1, 1, 1, 1, 1, 1, 1, 1, 1, 1, 1, 1, 1, 1, 1, 1, 1, 1, 1, 1, 1, 1, 1, 1, 1, 1, 1, 1, 1, 1, 1, 1, 1, 1, 1, 1, 1, 1, 1, 1, 1, 1, 1, 1, 1, 1, 1, 1, 1, 1, 1, 1, 1, 1, 1, 1, 1, 1, 1, 1, 1, 1, 1, 1, 1, 1, 1, 1, 1, 1, 1, 1, 1, 1, 1, 1, 1, 1, 1, 1, 1, 1, 1, 1, 1, 1, 1, 1, 1, 1, 1, 1, 1, 1, 1, 1, 1, 1, 1, 1, 1, 1, 1, 1, 1, 1, 1, 1, 1, 1, 1, 1, 1, 1, 1, 1, 1, 1, 1, 1, 1, 1, 1, 1, 1, 1, 1, 1, 1, 1, 1, 1, 1, 1, 1, 1, 1, 1, 1, 1, 1, 1, 1, 1, 1, 1, 1, 1, 1, 1, 1, 1, 1, 1, 1, 1, 1, 1, 1, 1, 1, 1, 1, 1, 1, 1, 1, 1, 1, 1, 1, 1, 1, 1, 1, 1, 1, 1, 1, 1, 1, 1, 1, 1, 1, 1, 1, 1, 1, 1, 1, 1, 1, 1, 1, 1, 1, 1, 1, 1, 1, 1, 1, 1, 1, 1, 1, 1, 1, 1, 1, 1, 1, 1, 1, 1, 1, 1, 1, 1, 1, 1, 1, 1, 1, 1, 1, 1, 1, 1, 1, 1, 1, 1, 1, 1, 1, 1, 1, 1, 1, 1, 1, 1, 1, 1, 1, 1, 1, 1, 1, 1, 1, 1, 1, 1, 1, 1, 1, 1, 1, 1, 1, 1, 1, 1, 1, 1, 1, 1, 1, 1, 1, 1, 1, 1, 1, 1, 1, 1, 1, 1, 1, 1, 1, 1, 1, 1, 1, 1, 1, 1, 1, 1, 1, 1, 1, 1, 1, 1, 1, 1, 1, 1, 1, 1, 1, 1, 1, 1, 1, 1, 1, 1, 1, 1, 1, 1, 1, 1, 1, 1, 1, 1, 1, 1, 1, 1, 1, 1, 1, 1, 1, 1, 1, 1, 1, 1, 1, 1, 1, 1, 1, 1, 1, 1, 1, 1, 1, 1, 1, 1, 1, 1, 1, 1, 1, 1, 1, 1, 1, 1, 1, 1, 1, 1, 1, 1, 1, 1, 1, 1, 1, 1, 1, 1, 1, 1, 1, 1, 1, 1, 1, 1, 1, 1, 1, 1, 1, 1, 1, 1, 1, 1, 1, 1, 1, 1, 1, 1, 1, 1, 1, 1, 1, 1, 1, 1, 1, 1, 1, 1, 1, 1, 1, 1, 1, 1, 1, 1, 1, 1, 1, 1, 1, 1, 1, 1, 1, 1, 1, 1, 1, 1, 1, 1, 1, 1, 1, 1, 1, 1, 1, 1, 1, 1, 1, 1, 1, 1, 1, 1, 1, 1, 1, 1, 1, 1, 1, 1, 1, 1, 1, 1, 1, 1, 1, 1, 1, 1, 1, 1, 1, 1, 1, 1, 1, 1, 1, 1, 1, 1, 1, 1, 1, 1, 1, 1, 1, 1, 1, 1, 1, 1, 1, 1, 1, 1, 1, 1, 1, 1, 1, 1, 1, 1, 1, 1, 1, 1, 1, 1, 1, 1, 1, 1, 1, 1, 1, 1, 1, 1, 1, 1, 1, 1, 1, 1, 1, 1, 1, 1, 1, 1, 1, 1, 1, 1, 1, 1, 1, 1, 1, 1, 1, 1, 1, 1, 1, 1, 1, 1, 1, 1, 1, 1, 1, 1, 1, 1, 1, 1, 1, 1, 1, 1, 1, 1, 1, 1, 1, 1, 1, 1, 1, 1, 1, 1, 1, 1, 1, 1, 1, 1, 1, 1, 1, 1, 1, 1, 1, 1, 1, 1, 1, 1, 1, 1, 1, 1, 1, 1, 1, 1, 1, 1, 1, 1, 1, 1, 1, 1, 1, 1, 1, 1, 1, 1, 1, 1, 1, 1, 1, 1, 1, 1, 1, 1, 1, 1, 1, 1, 1, 1, 1, 1, 1, 1, 1, 1, 1, 1, 1, 1, 1, 1, 1, 1, 1, 1, 1, 1, 1, 1, 1, 1, 1, 1, 1, 1, 1, 1, 1, 1, 1, 1, 1, 1, 1, 1, 1, 1, 1, 1, 1, 1, 1, 1, 1, 1, 1, 1, 1, 1, 1, 1, 1, 1, 1, 1, 1, 1, 1, 1, 1, 1, 1, 1, 1, 1, 1, 1, 1, 1, 1, 1, 1, 1, 1, 1, 1, 1, 1, 1, 1, 1, 1, 1, 1, 1, 1, 1, 1, 1, 1, 1, 1, 1, 1, 1, 1, 1, 1, 1, 1, 1, 1, 1, 1, 1, 1, 1, 1, 1, 1, 1, 1, 1, 1, 1, 1, 1, 1, 1, 1, 1, 1, 1, 1, 1, 1, 1, 1, 1, 1, 1, 1, 1, 1, 1, 1, 1, 1, 1, 1, 1, 1, 1, 1, 1, 1, 1, 1, 1, 1, 1, 1, 1, 1, 1, 1, 1, 1, 1, 1, 1, 1, 1, 1, 1, 1, 1, 1, 1, 1, 1, 1, 1, 1, 1, 1, 1, 1, 1, 1, 1, 1, 1, 1, 1, 1, 1, 1, 1, 1, 1, 1, 1, 1, 1, 1, 1, 1, 1, 1, 1, 1, 1, 1, 1, 1, 1, 1, 1, 1, 1, 1, 1, 1, 1, 1, 1, 1, 1, 1, 1, 1, 1, 1, 1, 1, 1, 1, 1, 1, 1, 1, 1, 1, 1, 1, 1, 1, 1, 1, 1, 1, 1, 1, 1, 1, 1, 1, 1, 1, 1, 1, 1, 1, 1, 1, 1, 1, 1, 1, 1, 1, 1, 1, 1, 1, 1, 1, 1, 1, 1, 1, 1, 1, 1, 1, 1, 1, 1, 1, 1, 1, 1, 1, 1, 1, 1, 1, 1, 1, 1, 1, 1, 1, 1, 1, 1, 1, 1, 1, 1, 1, 1, 1, 1, 1, 1, 1, 1, 1, 1, 1, 1, 1, 1, 1, 1, 1, 1, 1, 1, 1, 1, 1, 1, 1, 1, 1, 1, 1, 1, 1, 1, 1, 1, 1, 1, 1, 1, 1, 1, 1, 1, 1, 1, 1, 1, 1, 1, 1, 1, 1, 1, 1, 1, 1, 1, 1, 1, 1, 1, 1, 1, 1, 1, 1, 1, 1, 1, 1, 1, 1, 1, 1, 1, 1, 1, 1, 1, 1, 1, 1, 1, 1, 1, 1, 1, 1, 1, 1, 1, 1, 1, 1, 1, 1, 1, 1, 1, 1, 1, 1, 1, 1, 1, 1, 1, 1, 1, 1, 1, 1, 1, 1, 1, 1, 1, 1, 1, 1, 1, 1, 1, 1, 1, 1, 1, 1, 1, 1, 1, 1, 1, 1, 1, 1, 1, 1, 1, 1, 1, 1, 1, 1, 1, 1, 1, 1, 1, 1, 1, 1, 1, 1, 1, 1, 1, 1, 1, 1, 1, 1, 1, 1, 1, 1, 1, 1, 1, 1, 1, 1, 1, 1, 1, 1, 1, 1, 1, 1, 1, 1, 1, 1, 1, 1, 1, 1, 1, 1, 1, 1, 1, 1, 1, 1, 1, 1, 1, 1, 1, 1, 1, 1, 1, 1, 1, 1, 1, 1, 1, 1, 1, 1, 1, 1, 1, 1, 1, 1, 1, 1, 1, 1, 1, 1, 1, 1, 1, 1, 1, 1, 1, 1, 1, 1, 1, 1, 1, 1, 1, 1, 1, 1, 1, 1, 1, 1, 1, 1, 1, 1, 1, 1, 1, 1, 1, 1, 1, 1, 1, 1, 1, 1, 1, 1, 1, 1, 1, 1, 1, 1, 1, 1, 1, 1, 1, 1, 1, 1, 1, 1, 1, 1, 1, 1, 1, 1, 1, 1, 1, 1, 1, 1, 1, 1, 1, 1, 1, 1, 1, 1, 1, 1, 1, 1, 1, 1, 1]\n"
     ]
    }
   ],
   "source": [
    "# --- Graph Diameter ---\n",
    "# Note: The diameter is defined only for connected graphs.\n",
    "# If the graph is disconnected, you can compute the diameter of each connected component.\n",
    "if nx.is_connected(G):\n",
    "    diameter = nx.diameter(G)\n",
    "    print(\"Graph Diameter:\", diameter)\n",
    "else:\n",
    "    # Compute diameters for each connected component (ignoring isolated nodes)\n",
    "    components = [\n",
    "        G.subgraph(c).copy() for c in nx.connected_components(G) if len(c) > 1\n",
    "    ]\n",
    "    diameters = [nx.diameter(comp) for comp in components]\n",
    "    print(\"Graph is not fully connected. Diameters of connected components:\", diameters)\n"
   ]
  },
  {
   "cell_type": "code",
   "execution_count": 12,
   "metadata": {},
   "outputs": [],
   "source": [
    "# # --- Clustering Coefficients ---\n",
    "# # Compute the clustering coefficient for each node.\n",
    "# clustering_coeffs = nx.clustering(G)\n",
    "# # Calculate the average clustering coefficient.\n",
    "# avg_clustering = np.mean(list(clustering_coeffs.values()))\n",
    "# print(\"Average Clustering Coefficient:\", avg_clustering)\n"
   ]
  },
  {
   "cell_type": "markdown",
   "metadata": {},
   "source": [
    "---\n",
    "\n",
    "## 7.3. : Visualisation du graphe\n"
   ]
  },
  {
   "cell_type": "code",
   "execution_count": 13,
   "metadata": {},
   "outputs": [],
   "source": [
    "# Step 1: Add Node Attributes\n",
    "for i, row in data_text.iterrows():\n",
    "    # Here, we use the 'class' column as the dominant theme.\n",
    "    G.nodes[i][\"theme\"] = row[\"class\"]\n",
    "    # Optionally, you can add a label (like the article title) to make the visualization more informative:\n",
    "    G.nodes[i][\"label\"] = row[\"title\"]\n"
   ]
  },
  {
   "cell_type": "code",
   "execution_count": 14,
   "metadata": {},
   "outputs": [
    {
     "name": "stdout",
     "output_type": "stream",
     "text": [
      "Unique Themes: [1, 2, 3, 4, 5, 6, 7, 8]\n"
     ]
    },
    {
     "name": "stderr",
     "output_type": "stream",
     "text": [
      "C:\\Users\\elyes\\AppData\\Local\\Temp\\ipykernel_16700\\2961599380.py:8: MatplotlibDeprecationWarning: The get_cmap function was deprecated in Matplotlib 3.7 and will be removed in 3.11. Use ``matplotlib.colormaps[name]`` or ``matplotlib.colormaps.get_cmap()`` or ``pyplot.get_cmap()`` instead.\n",
      "  cmap = cm.get_cmap(\"rainbow\", len(unique_themes))\n"
     ]
    }
   ],
   "source": [
    "# Step 2: Map Themes to Colors\n",
    "# Collect all unique themes.\n",
    "themes = [G.nodes[n][\"theme\"] for n in G.nodes()]\n",
    "unique_themes = sorted(set(themes))\n",
    "print(\"Unique Themes:\", unique_themes)\n",
    "\n",
    "# Create a colormap using matplotlib's rainbow.\n",
    "cmap = cm.get_cmap(\"rainbow\", len(unique_themes))\n",
    "theme_color_mapping = {\n",
    "    theme: mcolors.rgb2hex(cmap(i)) for i, theme in enumerate(unique_themes)\n",
    "}\n",
    "\n",
    "# Assign a color attribute to each node based on its theme.\n",
    "for n_articles in G.nodes():\n",
    "    theme = G.nodes[n_articles][\"theme\"]\n",
    "\n",
    "    # default color if theme not found\n",
    "    G.nodes[n_articles][\"color\"] = theme_color_mapping.get(theme, \"#cccccc\")\n"
   ]
  },
  {
   "cell_type": "code",
   "execution_count": 15,
   "metadata": {},
   "outputs": [],
   "source": [
    "random.seed(42)  # Set random seed for reproducibility\n",
    "\n",
    "# Sample a subset of nodes\n",
    "sample_size = 2500\n",
    "sample_nodes = random.sample(list(G.nodes()), sample_size)\n",
    "\n",
    "G_sub = G.subgraph(sample_nodes)  # Create a subgraph from the sampled nodes\n",
    "\n",
    "# Visualize the subgraph\n",
    "vis = sigma.Sigma(G_sub)\n",
    "# vis\n"
   ]
  },
  {
   "cell_type": "markdown",
   "metadata": {},
   "source": [
    "---\n",
    "\n",
    "## 7.4. : Clustering\n"
   ]
  },
  {
   "cell_type": "markdown",
   "metadata": {},
   "source": [
    "### Louvain\n"
   ]
  },
  {
   "cell_type": "code",
   "execution_count": 16,
   "metadata": {},
   "outputs": [
    {
     "name": "stdout",
     "output_type": "stream",
     "text": [
      "Louvain detected 1701 clusters.\n"
     ]
    }
   ],
   "source": [
    "# Run the Louvain algorithm on your graph G\n",
    "# This returns a dictionary mapping each node to its detected community.\n",
    "partition = community_louvain.best_partition(G)\n",
    "\n",
    "# Add the computed cluster to each node's attributes in the graph.\n",
    "for node, cluster in partition.items():\n",
    "    G.nodes[node][\"louvain_cluster\"] = cluster\n",
    "\n",
    "# Add the cluster information to the dataframe\n",
    "data_text[\"louvain_cluster\"] = data_text.index.map(lambda i: partition[i])\n",
    "\n",
    "num_clusters = len(set(partition.values()))\n",
    "print(f\"Louvain detected {num_clusters} clusters.\")\n"
   ]
  },
  {
   "cell_type": "markdown",
   "metadata": {},
   "source": [
    "### Spectral\n"
   ]
  },
  {
   "cell_type": "code",
   "execution_count": 17,
   "metadata": {},
   "outputs": [
    {
     "name": "stderr",
     "output_type": "stream",
     "text": [
      "c:\\Users\\elyes\\Desktop\\MALIA\\NetworkAnalysis_SearchEngine\\env_netanalysis\\Lib\\site-packages\\sklearn\\manifold\\_spectral_embedding.py:329: UserWarning: Graph is not fully connected, spectral embedding may not work as expected.\n",
      "  warnings.warn(\n"
     ]
    },
    {
     "name": "stdout",
     "output_type": "stream",
     "text": [
      "Spectral detected 8 clusters.\n"
     ]
    }
   ],
   "source": [
    "# Set random seed for reproducibility\n",
    "random.seed(42)\n",
    "\n",
    "# Randomly select a subset of nodes from the graph\n",
    "sample_nodes = random.sample(list(G.nodes()), 10000)\n",
    "\n",
    "# Create a subgraph from the sampled nodes\n",
    "G_sub_spectral = G.subgraph(sample_nodes)\n",
    "\n",
    "# Convert the subgraph to an adjacency matrix\n",
    "adj_matrix = nx.to_numpy_array(G_sub_spectral)\n",
    "\n",
    "# Perform spectral clustering\n",
    "spectral = SpectralClustering(n_clusters=8, affinity=\"precomputed\", random_state=42)\n",
    "spectral_labels = spectral.fit_predict(adj_matrix)\n",
    "\n",
    "# Add the computed cluster to each node's attributes in the graph\n",
    "for node, cluster in zip(sample_nodes, spectral_labels):\n",
    "    G.nodes[node][\"spectral_cluster\"] = cluster\n",
    "\n",
    "# Add the cluster information to the dataframe\n",
    "data_text[\"spectral_cluster\"] = data_text.index.map(\n",
    "    lambda i: G.nodes[i].get(\"spectral_cluster\")\n",
    ")\n",
    "\n",
    "num_clusters = len(set(spectral_labels))\n",
    "print(f\"Spectral detected {num_clusters} clusters.\")\n"
   ]
  },
  {
   "cell_type": "code",
   "execution_count": 18,
   "metadata": {},
   "outputs": [
    {
     "name": "stdout",
     "output_type": "stream",
     "text": [
      "Unique Themes: [0, 1, 2, 3, 4, 5, 6, 7, 8, 9, 10, 11, 12, 13, 14, 15, 16, 17, 18, 19, 20, 21, 22, 23, 24, 25, 26, 27, 28, 29, 30, 31, 32, 33, 34, 35, 36, 37, 38, 39, 40, 41, 42, 43, 44, 45, 46, 47, 48, 49, 50, 51, 52, 53, 54, 55, 56, 57, 58, 59, 60, 61, 62, 63, 64, 65, 66, 67, 68, 69, 70, 71, 72, 73, 74, 75, 76, 77, 78, 79, 80, 81, 82, 83, 84, 85, 86, 87, 88, 89, 90, 91, 92, 93, 94, 95, 96, 97, 98, 99, 100, 101, 102, 103, 104, 105, 106, 107, 108, 109, 110, 111, 112, 113, 114, 115, 116, 117, 118, 119, 120, 121, 122, 123, 124, 125, 126, 127, 128, 129, 130, 131, 132, 133, 134, 135, 136, 137, 138, 139, 140, 141, 142, 143, 144, 145, 146, 147, 148, 149, 150, 151, 152, 153, 154, 155, 156, 157, 158, 159, 160, 161, 162, 163, 164, 165, 166, 167, 168, 169, 170, 171, 172, 173, 174, 175, 176, 177, 178, 179, 180, 181, 182, 183, 184, 185, 186, 187, 188, 189, 190, 191, 192, 193, 194, 195, 196, 197, 198, 199, 200, 201, 202, 203, 204, 205, 206, 207, 208, 209, 210, 211, 212, 213, 214, 215, 216, 217, 218, 219, 220, 221, 222, 223, 224, 225, 226, 227, 228, 229, 230, 231, 232, 233, 234, 235, 236, 237, 238, 239, 240, 241, 242, 243, 244, 245, 246, 247, 248, 249, 250, 251, 252, 253, 254, 255, 256, 257, 258, 259, 260, 261, 262, 263, 264, 265, 266, 267, 268, 269, 270, 271, 272, 273, 274, 275, 276, 277, 278, 279, 280, 281, 282, 283, 284, 285, 286, 287, 288, 289, 290, 291, 292, 293, 294, 295, 296, 297, 298, 299, 300, 301, 302, 303, 304, 305, 306, 307, 308, 309, 310, 311, 312, 313, 314, 315, 316, 317, 318, 319, 320, 321, 322, 323, 324, 325, 326, 327, 328, 329, 330, 331, 332, 333, 334, 335, 336, 337, 338, 339, 340, 341, 342, 343, 344, 345, 346, 347, 348, 349, 350, 351, 352, 353, 354, 355, 356, 357, 358, 359, 360, 361, 362, 363, 364, 365, 366, 367, 368, 369, 370, 371, 372, 373, 374, 375, 376, 377, 378, 379, 380, 381, 382, 383, 384, 385, 386, 387, 388, 389, 390, 391, 392, 393, 394, 395, 396, 397, 398, 399, 400, 401, 402, 403, 404, 405, 406, 407, 408, 409, 410, 411, 412, 413, 414, 415, 416, 417, 418, 419, 420, 421, 422, 423, 424, 425, 426, 427, 428, 429, 430, 431, 432, 433, 434, 435, 436, 437, 438, 439, 440, 441, 442, 443, 444, 445, 446, 447, 448, 449, 450, 451, 452, 453, 454, 455, 456, 457, 458, 459, 460, 461, 462, 463, 464, 465, 466, 467, 468, 469, 470, 471, 472, 473, 474, 475, 476, 477, 478, 479, 480, 481, 482, 483, 484, 485, 486, 487, 488, 489, 490, 491, 492, 493, 494, 495, 496, 497, 498, 499, 500, 501, 502, 503, 504, 505, 506, 507, 508, 509, 510, 511, 512, 513, 514, 515, 516, 517, 518, 519, 520, 521, 522, 523, 524, 525, 526, 527, 528, 529, 530, 531, 532, 533, 534, 535, 536, 537, 538, 539, 540, 541, 542, 543, 544, 545, 546, 547, 548, 549, 550, 551, 552, 553, 554, 555, 556, 557, 558, 559, 560, 561, 562, 563, 564, 565, 566, 567, 568, 569, 570, 571, 572, 573, 574, 575, 576, 577, 578, 579, 580, 581, 582, 583, 584, 585, 586, 587, 588, 589, 590, 591, 592, 593, 594, 595, 596, 597, 598, 599, 600, 601, 602, 603, 604, 605, 606, 607, 608, 609, 610, 611, 612, 613, 614, 615, 616, 617, 618, 619, 620, 621, 622, 623, 624, 625, 626, 627, 628, 629, 630, 631, 632, 633, 634, 635, 636, 637, 638, 639, 640, 641, 642, 643, 644, 645, 646, 647, 648, 649, 650, 651, 652, 653, 654, 655, 656, 657, 658, 659, 660, 661, 662, 663, 664, 665, 666, 667, 668, 669, 670, 671, 672, 673, 674, 675, 676, 677, 678, 679, 680, 681, 682, 683, 684, 685, 686, 687, 688, 689, 690, 691, 692, 693, 694, 695, 696, 697, 698, 699, 700, 701, 702, 703, 704, 705, 706, 707, 708, 709, 710, 711, 712, 713, 714, 715, 716, 717, 718, 719, 720, 721, 722, 723, 724, 725, 726, 727, 728, 729, 730, 731, 732, 733, 734, 735, 736, 737, 738, 739, 740, 741, 742, 743, 744, 745, 746, 747, 748, 749, 750, 751, 752, 753, 754, 755, 756, 757, 758, 759, 760, 761, 762, 763, 764, 765, 766, 767, 768, 769, 770, 771, 772, 773, 774, 775, 776, 777, 778, 779, 780, 781, 782, 783, 784, 785, 786, 787, 788, 789, 790, 791, 792, 793, 794, 795, 796, 797, 798, 799, 800, 801, 802, 803, 804, 805, 806, 807, 808, 809, 810, 811, 812, 813, 814, 815, 816, 817, 818, 819, 820, 821, 822, 823, 824, 825, 826, 827, 828, 829, 830, 831, 832, 833, 834, 835, 836, 837, 838, 839, 840, 841, 842, 843, 844, 845, 846, 847, 848, 849, 850, 851, 852, 853, 854, 855, 856, 857, 858, 859, 860, 861, 862, 863, 864, 865, 866, 867, 868, 869, 870, 871, 872, 873, 874, 875, 876, 877, 878, 879, 880, 881, 882, 883, 884, 885, 886, 887, 888, 889, 890, 891, 892, 893, 894, 895, 896, 897, 898, 899, 900, 901, 902, 903, 904, 905, 906, 907, 908, 909, 910, 911, 912, 913, 914, 915, 916, 917, 918, 919, 920, 921, 922, 923, 924, 925, 926, 927, 928, 929, 930, 931, 932, 933, 934, 935, 936, 937, 938, 939, 940, 941, 942, 943, 944, 945, 946, 947, 948, 949, 950, 951, 952, 953, 954, 955, 956, 957, 958, 959, 960, 961, 962, 963, 964, 965, 966, 967, 968, 969, 970, 971, 972, 973, 974, 975, 976, 977, 978, 979, 980, 981, 982, 983, 984, 985, 986, 987, 988, 989, 990, 991, 992, 993, 994, 995, 996, 997, 998, 999, 1000, 1001, 1002, 1003, 1004, 1005, 1006, 1007, 1008, 1009, 1010, 1011, 1012, 1013, 1014, 1015, 1016, 1017, 1018, 1019, 1020, 1021, 1022, 1023, 1024, 1025, 1026, 1027, 1028, 1029, 1030, 1031, 1032, 1033, 1034, 1035, 1036, 1037, 1038, 1039, 1040, 1041, 1042, 1043, 1044, 1045, 1046, 1047, 1048, 1049, 1050, 1051, 1052, 1053, 1054, 1055, 1056, 1057, 1058, 1059, 1060, 1061, 1062, 1063, 1064, 1065, 1066, 1067, 1068, 1069, 1070, 1071, 1072, 1073, 1074, 1075, 1076, 1077, 1078, 1079, 1080, 1081, 1082, 1083, 1084, 1085, 1086, 1087, 1088, 1089, 1090, 1091, 1092, 1093, 1094, 1095, 1096, 1097, 1098, 1099, 1100, 1101, 1102, 1103, 1104, 1105, 1106, 1107, 1108, 1109, 1110, 1111, 1112, 1113, 1114, 1115, 1116, 1117, 1118, 1119, 1120, 1121, 1122, 1123, 1124, 1125, 1126, 1127, 1128, 1129, 1130, 1131, 1132, 1133, 1134, 1135, 1136, 1137, 1138, 1139, 1140, 1141, 1142, 1143, 1144, 1145, 1146, 1147, 1148, 1149, 1150, 1151, 1152, 1153, 1154, 1155, 1156, 1157, 1158, 1159, 1160, 1161, 1162, 1163, 1164, 1165, 1166, 1167, 1168, 1169, 1170, 1171, 1172, 1173, 1174, 1175, 1176, 1177, 1178, 1179, 1180, 1181, 1182, 1183, 1184, 1185, 1186, 1187, 1188, 1189, 1190, 1191, 1192, 1193, 1194, 1195, 1196, 1197, 1198, 1199, 1200, 1201, 1202, 1203, 1204, 1205, 1206, 1207, 1208, 1209, 1210, 1211, 1212, 1213, 1214, 1215, 1216, 1217, 1218, 1219, 1220, 1221, 1222, 1223, 1224, 1225, 1226, 1227, 1228, 1229, 1230, 1231, 1232, 1233, 1234, 1235, 1236, 1237, 1238, 1239, 1240, 1241, 1242, 1243, 1244, 1245, 1246, 1247, 1248, 1249, 1250, 1251, 1252, 1253, 1254, 1255, 1256, 1257, 1258, 1259, 1260, 1261, 1262, 1263, 1264, 1265, 1266, 1267, 1268, 1269, 1270, 1271, 1272, 1273, 1274, 1275, 1276, 1277, 1278, 1279, 1280, 1281, 1282, 1283, 1284, 1285, 1286, 1287, 1288, 1289, 1290, 1291, 1292, 1293, 1294, 1295, 1296, 1297, 1298, 1299, 1300, 1301, 1302, 1303, 1304, 1305, 1306, 1307, 1308, 1309, 1310, 1311, 1312, 1313, 1314, 1315, 1316, 1317, 1318, 1319, 1320, 1321, 1322, 1323, 1324, 1325, 1326, 1327, 1328, 1329, 1330, 1331, 1332, 1333, 1334, 1335, 1336, 1337, 1338, 1339, 1340, 1341, 1342, 1343, 1344, 1345, 1346, 1347, 1348, 1349, 1350, 1351, 1352, 1353, 1354, 1355, 1356, 1357, 1358, 1359, 1360, 1361, 1362, 1363, 1364, 1365, 1366, 1367, 1368, 1369, 1370, 1371, 1372, 1373, 1374, 1375, 1376, 1377, 1378, 1379, 1380, 1381, 1382, 1383, 1384, 1385, 1386, 1387, 1388, 1389, 1390, 1391, 1392, 1393, 1394, 1395, 1396, 1397, 1398, 1399, 1400, 1401, 1402, 1403, 1404, 1405, 1406, 1407, 1408, 1409, 1410, 1411, 1412, 1413, 1414, 1415, 1416, 1417, 1418, 1419, 1420, 1421, 1422, 1423, 1424, 1425, 1426, 1427, 1428, 1429, 1430, 1431, 1432, 1433, 1434, 1435, 1436, 1437, 1438, 1439, 1440, 1441, 1442, 1443, 1444, 1445, 1446, 1447, 1448, 1449, 1450, 1451, 1452, 1453, 1454, 1455, 1456, 1457, 1458, 1459, 1460, 1461, 1462, 1463, 1464, 1465, 1466, 1467, 1468, 1469, 1470, 1471, 1472, 1473, 1474, 1475, 1476, 1477, 1478, 1479, 1480, 1481, 1482, 1483, 1484, 1485, 1486, 1487, 1488, 1489, 1490, 1491, 1492, 1493, 1494, 1495, 1496, 1497, 1498, 1499, 1500, 1501, 1502, 1503, 1504, 1505, 1506, 1507, 1508, 1509, 1510, 1511, 1512, 1513, 1514, 1515, 1516, 1517, 1518, 1519, 1520, 1521, 1522, 1523, 1524, 1525, 1526, 1527, 1528, 1529, 1530, 1531, 1532, 1533, 1534, 1535, 1536, 1537, 1538, 1539, 1540, 1541, 1542, 1543, 1544, 1545, 1546, 1547, 1548, 1549, 1550, 1551, 1552, 1553, 1554, 1555, 1556, 1557, 1558, 1559, 1560, 1561, 1562, 1563, 1564, 1565, 1566, 1567, 1568, 1569, 1570, 1571, 1572, 1573, 1574, 1575, 1576, 1577, 1578, 1579, 1580, 1581, 1582, 1583, 1584, 1585, 1586, 1587, 1588, 1589, 1590, 1591, 1592, 1593, 1594, 1595, 1596, 1597, 1598, 1599, 1600, 1601, 1602, 1603, 1604, 1605, 1606, 1607, 1608, 1609, 1610, 1611, 1612, 1613, 1614, 1615, 1616, 1617, 1618, 1619, 1620, 1621, 1622, 1623, 1624, 1625, 1626, 1627, 1628, 1629, 1630, 1631, 1632, 1633, 1634, 1635, 1636, 1637, 1638, 1639, 1640, 1641, 1642, 1643, 1644, 1645, 1646, 1647, 1648, 1649, 1650, 1651, 1652, 1653, 1654, 1655, 1656, 1657, 1658, 1659, 1660, 1661, 1662, 1663, 1664, 1665, 1666, 1667, 1668, 1669, 1670, 1671, 1672, 1673, 1674, 1675, 1676, 1677, 1678, 1679, 1680, 1681, 1682, 1683, 1684, 1685, 1686, 1687, 1688, 1689, 1690, 1691, 1692, 1693, 1694, 1695, 1696, 1697, 1698, 1699, 1700]\n"
     ]
    },
    {
     "name": "stderr",
     "output_type": "stream",
     "text": [
      "C:\\Users\\elyes\\AppData\\Local\\Temp\\ipykernel_16700\\4087324532.py:11: MatplotlibDeprecationWarning: The get_cmap function was deprecated in Matplotlib 3.7 and will be removed in 3.11. Use ``matplotlib.colormaps[name]`` or ``matplotlib.colormaps.get_cmap()`` or ``pyplot.get_cmap()`` instead.\n",
      "  cmap = cm.get_cmap(\"rainbow\", len(unique_louvain_themes))\n"
     ]
    }
   ],
   "source": [
    "# Set random seed for reproducibility\n",
    "random.seed(42)\n",
    "\n",
    "# Create a color mapping for all Louvain clusters.\n",
    "# Collect all unique themes.\n",
    "louvain_themes = [G.nodes[n][\"louvain_cluster\"] for n in G.nodes()]\n",
    "unique_louvain_themes = sorted(set(louvain_themes))\n",
    "print(\"Unique Themes:\", unique_louvain_themes)\n",
    "\n",
    "# Create a colormap using matplotlib's rainbow.\n",
    "cmap = cm.get_cmap(\"rainbow\", len(unique_louvain_themes))\n",
    "louvain_theme_color_mapping = {\n",
    "    theme: mcolors.rgb2hex(cmap(i)) for i, theme in enumerate(unique_louvain_themes)\n",
    "}\n",
    "\n",
    "# Assign a color attribute to each node based on its louvain_cluster.\n",
    "for n in G.nodes():\n",
    "    theme = G.nodes[n][\"louvain_cluster\"]\n",
    "    G.nodes[n][\"color\"] = louvain_theme_color_mapping.get(theme, \"#cccccc\")\n",
    "\n",
    "\n",
    "# Visualisation\n",
    "# Set random seed for reproducibility\n",
    "random.seed(42)\n",
    "\n",
    "# Sample a subset of nodes\n",
    "sample_size = 2500\n",
    "sample_nodes = random.sample(list(G_sub_spectral.nodes()), sample_size)\n",
    "G_sub = G.subgraph(sample_nodes)\n",
    "\n",
    "# Visualize the subgraph\n",
    "vis = sigma.Sigma(G_sub)\n",
    "# vis\n"
   ]
  },
  {
   "cell_type": "code",
   "execution_count": 19,
   "metadata": {},
   "outputs": [
    {
     "name": "stdout",
     "output_type": "stream",
     "text": [
      "Unique Themes: [np.int32(0), np.int32(1), np.int32(2), np.int32(3), np.int32(4), np.int32(5), np.int32(6), np.int32(7)]\n"
     ]
    },
    {
     "name": "stderr",
     "output_type": "stream",
     "text": [
      "C:\\Users\\elyes\\AppData\\Local\\Temp\\ipykernel_16700\\3696496144.py:13: MatplotlibDeprecationWarning: The get_cmap function was deprecated in Matplotlib 3.7 and will be removed in 3.11. Use ``matplotlib.colormaps[name]`` or ``matplotlib.colormaps.get_cmap()`` or ``pyplot.get_cmap()`` instead.\n",
      "  cmap = cm.get_cmap(\"rainbow\", len(unique_spectral_themes))\n"
     ]
    }
   ],
   "source": [
    "# Set random seed for reproducibility\n",
    "random.seed(42)\n",
    "\n",
    "# Create a color mapping for all Spectral clusters.\n",
    "# Collect all unique themes.\n",
    "spectral_themes = [\n",
    "    G_sub_spectral.nodes[n][\"spectral_cluster\"] for n in G_sub_spectral.nodes()\n",
    "]\n",
    "unique_spectral_themes = sorted(set(spectral_themes))\n",
    "print(\"Unique Themes:\", unique_spectral_themes)\n",
    "\n",
    "# Create a colormap using matplotlib's rainbow.\n",
    "cmap = cm.get_cmap(\"rainbow\", len(unique_spectral_themes))\n",
    "spectral_theme_color_mapping = {\n",
    "    theme: mcolors.rgb2hex(cmap(i)) for i, theme in enumerate(unique_spectral_themes)\n",
    "}\n",
    "\n",
    "# Assign a color attribute to each node based on its spectral_cluster.\n",
    "for n in G_sub_spectral.nodes():\n",
    "    theme = G_sub_spectral.nodes[n][\"spectral_cluster\"]\n",
    "    G_sub_spectral.nodes[n][\"color\"] = spectral_theme_color_mapping.get(\n",
    "        theme, \"#cccccc\"\n",
    "    )\n",
    "\n",
    "\n",
    "# Visualisation\n",
    "# Set random seed for reproducibility\n",
    "random.seed(42)\n",
    "\n",
    "# Sample a subset of nodes\n",
    "sample_size = 2500\n",
    "sample_nodes = random.sample(list(G_sub_spectral.nodes()), sample_size)\n",
    "G_sub = G.subgraph(sample_nodes)\n",
    "\n",
    "# Visualize the subgraph\n",
    "vis = sigma.Sigma(G_sub)\n",
    "# vis\n"
   ]
  },
  {
   "cell_type": "markdown",
   "metadata": {},
   "source": [
    "---\n",
    "\n",
    "## 7.5. : Calcul de représentations sur le graph avec Laplacian Eigenmaps\n"
   ]
  },
  {
   "cell_type": "code",
   "execution_count": 20,
   "metadata": {},
   "outputs": [],
   "source": [
    "# Calcul des similarités sur les arêtes (ici, un exemple simple d'weights)\n",
    "for u, v in G_sub.edges():\n",
    "    G_sub[u][v][\"weight\"] = np.random.rand()  # Poids aléatoires pour chaque arête\n",
    "\n",
    "# 2. Calcul du Laplacien\n",
    "A = nx.adjacency_matrix(G_sub).toarray()  # Matrice d'adjacence\n",
    "degrees = np.sum(A, axis=1)  # Degré de chaque noeud\n",
    "D = np.diag(degrees)  # Matrice des degrés\n",
    "\n",
    "# Laplacien\n",
    "L = D - A\n",
    "\n",
    "# 3. Calcul des valeurs et vecteurs propres\n",
    "# On résout le problème aux valeurs propres pour obtenir les vecteurs de l'espace réduit\n",
    "# Note: Ne prendre que les k plus petites valeurs propres (ici k=2)\n",
    "eigenvalues, eigenvectors = eigh(L)\n",
    "\n",
    "# Sélectionner les k premières valeurs propres et leurs vecteurs associés\n",
    "k = 2\n",
    "embedding = eigenvectors[:, :k]  # Embedding de dimension 2 (puisque k=2)\n"
   ]
  },
  {
   "cell_type": "code",
   "execution_count": 21,
   "metadata": {},
   "outputs": [
    {
     "ename": "ValueError",
     "evalue": "'c' argument has 40596 elements, which is inconsistent with 'x' and 'y' with size 2500.",
     "output_type": "error",
     "traceback": [
      "\u001b[31m---------------------------------------------------------------------------\u001b[39m",
      "\u001b[31mValueError\u001b[39m                                Traceback (most recent call last)",
      "\u001b[36mFile \u001b[39m\u001b[32mc:\\Users\\elyes\\Desktop\\MALIA\\NetworkAnalysis_SearchEngine\\env_netanalysis\\Lib\\site-packages\\matplotlib\\axes\\_axes.py:4755\u001b[39m, in \u001b[36mAxes._parse_scatter_color_args\u001b[39m\u001b[34m(c, edgecolors, kwargs, xsize, get_next_color_func)\u001b[39m\n\u001b[32m   4754\u001b[39m \u001b[38;5;28;01mtry\u001b[39;00m:  \u001b[38;5;66;03m# Is 'c' acceptable as PathCollection facecolors?\u001b[39;00m\n\u001b[32m-> \u001b[39m\u001b[32m4755\u001b[39m     colors = \u001b[43mmcolors\u001b[49m\u001b[43m.\u001b[49m\u001b[43mto_rgba_array\u001b[49m\u001b[43m(\u001b[49m\u001b[43mc\u001b[49m\u001b[43m)\u001b[49m\n\u001b[32m   4756\u001b[39m \u001b[38;5;28;01mexcept\u001b[39;00m (\u001b[38;5;167;01mTypeError\u001b[39;00m, \u001b[38;5;167;01mValueError\u001b[39;00m) \u001b[38;5;28;01mas\u001b[39;00m err:\n",
      "\u001b[36mFile \u001b[39m\u001b[32mc:\\Users\\elyes\\Desktop\\MALIA\\NetworkAnalysis_SearchEngine\\env_netanalysis\\Lib\\site-packages\\matplotlib\\colors.py:515\u001b[39m, in \u001b[36mto_rgba_array\u001b[39m\u001b[34m(c, alpha)\u001b[39m\n\u001b[32m    514\u001b[39m \u001b[38;5;28;01melse\u001b[39;00m:\n\u001b[32m--> \u001b[39m\u001b[32m515\u001b[39m     rgba = np.array([\u001b[43mto_rgba\u001b[49m\u001b[43m(\u001b[49m\u001b[43mcc\u001b[49m\u001b[43m)\u001b[49m \u001b[38;5;28;01mfor\u001b[39;00m cc \u001b[38;5;129;01min\u001b[39;00m c])\n\u001b[32m    517\u001b[39m \u001b[38;5;28;01mif\u001b[39;00m alpha \u001b[38;5;129;01mis\u001b[39;00m \u001b[38;5;129;01mnot\u001b[39;00m \u001b[38;5;28;01mNone\u001b[39;00m:\n",
      "\u001b[36mFile \u001b[39m\u001b[32mc:\\Users\\elyes\\Desktop\\MALIA\\NetworkAnalysis_SearchEngine\\env_netanalysis\\Lib\\site-packages\\matplotlib\\colors.py:317\u001b[39m, in \u001b[36mto_rgba\u001b[39m\u001b[34m(c, alpha)\u001b[39m\n\u001b[32m    316\u001b[39m \u001b[38;5;28;01mif\u001b[39;00m rgba \u001b[38;5;129;01mis\u001b[39;00m \u001b[38;5;28;01mNone\u001b[39;00m:  \u001b[38;5;66;03m# Suppress exception chaining of cache lookup failure.\u001b[39;00m\n\u001b[32m--> \u001b[39m\u001b[32m317\u001b[39m     rgba = \u001b[43m_to_rgba_no_colorcycle\u001b[49m\u001b[43m(\u001b[49m\u001b[43mc\u001b[49m\u001b[43m,\u001b[49m\u001b[43m \u001b[49m\u001b[43malpha\u001b[49m\u001b[43m)\u001b[49m\n\u001b[32m    318\u001b[39m     \u001b[38;5;28;01mtry\u001b[39;00m:\n",
      "\u001b[36mFile \u001b[39m\u001b[32mc:\\Users\\elyes\\Desktop\\MALIA\\NetworkAnalysis_SearchEngine\\env_netanalysis\\Lib\\site-packages\\matplotlib\\colors.py:401\u001b[39m, in \u001b[36m_to_rgba_no_colorcycle\u001b[39m\u001b[34m(c, alpha)\u001b[39m\n\u001b[32m    400\u001b[39m \u001b[38;5;28;01mif\u001b[39;00m \u001b[38;5;129;01mnot\u001b[39;00m np.iterable(c):\n\u001b[32m--> \u001b[39m\u001b[32m401\u001b[39m     \u001b[38;5;28;01mraise\u001b[39;00m \u001b[38;5;167;01mValueError\u001b[39;00m(\u001b[33mf\u001b[39m\u001b[33m\"\u001b[39m\u001b[33mInvalid RGBA argument: \u001b[39m\u001b[38;5;132;01m{\u001b[39;00morig_c\u001b[38;5;132;01m!r}\u001b[39;00m\u001b[33m\"\u001b[39m)\n\u001b[32m    402\u001b[39m \u001b[38;5;28;01mif\u001b[39;00m \u001b[38;5;28mlen\u001b[39m(c) \u001b[38;5;129;01mnot\u001b[39;00m \u001b[38;5;129;01min\u001b[39;00m [\u001b[32m3\u001b[39m, \u001b[32m4\u001b[39m]:\n",
      "\u001b[31mValueError\u001b[39m: Invalid RGBA argument: np.float64(0.0)",
      "\nThe above exception was the direct cause of the following exception:\n",
      "\u001b[31mValueError\u001b[39m                                Traceback (most recent call last)",
      "\u001b[36mCell\u001b[39m\u001b[36m \u001b[39m\u001b[32mIn[21]\u001b[39m\u001b[32m, line 3\u001b[39m\n\u001b[32m      1\u001b[39m \u001b[38;5;66;03m# 4. Visualisation de l'Embedding obtenu via Laplacian Eigenmaps\u001b[39;00m\n\u001b[32m      2\u001b[39m plt.figure(figsize=(\u001b[32m8\u001b[39m, \u001b[32m6\u001b[39m))\n\u001b[32m----> \u001b[39m\u001b[32m3\u001b[39m \u001b[43mplt\u001b[49m\u001b[43m.\u001b[49m\u001b[43mscatter\u001b[49m\u001b[43m(\u001b[49m\n\u001b[32m      4\u001b[39m \u001b[43m    \u001b[49m\u001b[43membedding\u001b[49m\u001b[43m[\u001b[49m\u001b[43m:\u001b[49m\u001b[43m,\u001b[49m\u001b[43m \u001b[49m\u001b[32;43m0\u001b[39;49m\u001b[43m]\u001b[49m\u001b[43m,\u001b[49m\u001b[43m \u001b[49m\u001b[43membedding\u001b[49m\u001b[43m[\u001b[49m\u001b[43m:\u001b[49m\u001b[43m,\u001b[49m\u001b[43m \u001b[49m\u001b[32;43m1\u001b[39;49m\u001b[43m]\u001b[49m\u001b[43m,\u001b[49m\u001b[43m \u001b[49m\u001b[43mc\u001b[49m\u001b[43m=\u001b[49m\u001b[43mnp\u001b[49m\u001b[43m.\u001b[49m\u001b[43marange\u001b[49m\u001b[43m(\u001b[49m\u001b[38;5;28;43mlen\u001b[39;49m\u001b[43m(\u001b[49m\u001b[43mG\u001b[49m\u001b[43m.\u001b[49m\u001b[43mnodes\u001b[49m\u001b[43m(\u001b[49m\u001b[43m)\u001b[49m\u001b[43m)\u001b[49m\u001b[43m)\u001b[49m\u001b[43m,\u001b[49m\u001b[43m \u001b[49m\u001b[43mcmap\u001b[49m\u001b[43m=\u001b[49m\u001b[33;43m\"\u001b[39;49m\u001b[33;43mviridis\u001b[39;49m\u001b[33;43m\"\u001b[39;49m\n\u001b[32m      5\u001b[39m \u001b[43m)\u001b[49m\n\u001b[32m      6\u001b[39m plt.title(\u001b[33m\"\u001b[39m\u001b[33mProjection via Laplacian Eigenmaps\u001b[39m\u001b[33m\"\u001b[39m)\n\u001b[32m      7\u001b[39m plt.colorbar(label=\u001b[33m\"\u001b[39m\u001b[33mNode index\u001b[39m\u001b[33m\"\u001b[39m)\n",
      "\u001b[36mFile \u001b[39m\u001b[32mc:\\Users\\elyes\\Desktop\\MALIA\\NetworkAnalysis_SearchEngine\\env_netanalysis\\Lib\\site-packages\\matplotlib\\_api\\deprecation.py:453\u001b[39m, in \u001b[36mmake_keyword_only.<locals>.wrapper\u001b[39m\u001b[34m(*args, **kwargs)\u001b[39m\n\u001b[32m    447\u001b[39m \u001b[38;5;28;01mif\u001b[39;00m \u001b[38;5;28mlen\u001b[39m(args) > name_idx:\n\u001b[32m    448\u001b[39m     warn_deprecated(\n\u001b[32m    449\u001b[39m         since, message=\u001b[33m\"\u001b[39m\u001b[33mPassing the \u001b[39m\u001b[38;5;132;01m%(name)s\u001b[39;00m\u001b[33m \u001b[39m\u001b[38;5;132;01m%(obj_type)s\u001b[39;00m\u001b[33m \u001b[39m\u001b[33m\"\u001b[39m\n\u001b[32m    450\u001b[39m         \u001b[33m\"\u001b[39m\u001b[33mpositionally is deprecated since Matplotlib \u001b[39m\u001b[38;5;132;01m%(since)s\u001b[39;00m\u001b[33m; the \u001b[39m\u001b[33m\"\u001b[39m\n\u001b[32m    451\u001b[39m         \u001b[33m\"\u001b[39m\u001b[33mparameter will become keyword-only in \u001b[39m\u001b[38;5;132;01m%(removal)s\u001b[39;00m\u001b[33m.\u001b[39m\u001b[33m\"\u001b[39m,\n\u001b[32m    452\u001b[39m         name=name, obj_type=\u001b[33mf\u001b[39m\u001b[33m\"\u001b[39m\u001b[33mparameter of \u001b[39m\u001b[38;5;132;01m{\u001b[39;00mfunc.\u001b[34m__name__\u001b[39m\u001b[38;5;132;01m}\u001b[39;00m\u001b[33m()\u001b[39m\u001b[33m\"\u001b[39m)\n\u001b[32m--> \u001b[39m\u001b[32m453\u001b[39m \u001b[38;5;28;01mreturn\u001b[39;00m \u001b[43mfunc\u001b[49m\u001b[43m(\u001b[49m\u001b[43m*\u001b[49m\u001b[43margs\u001b[49m\u001b[43m,\u001b[49m\u001b[43m \u001b[49m\u001b[43m*\u001b[49m\u001b[43m*\u001b[49m\u001b[43mkwargs\u001b[49m\u001b[43m)\u001b[49m\n",
      "\u001b[36mFile \u001b[39m\u001b[32mc:\\Users\\elyes\\Desktop\\MALIA\\NetworkAnalysis_SearchEngine\\env_netanalysis\\Lib\\site-packages\\matplotlib\\pyplot.py:3937\u001b[39m, in \u001b[36mscatter\u001b[39m\u001b[34m(x, y, s, c, marker, cmap, norm, vmin, vmax, alpha, linewidths, edgecolors, colorizer, plotnonfinite, data, **kwargs)\u001b[39m\n\u001b[32m   3917\u001b[39m \u001b[38;5;129m@_copy_docstring_and_deprecators\u001b[39m(Axes.scatter)\n\u001b[32m   3918\u001b[39m \u001b[38;5;28;01mdef\u001b[39;00m\u001b[38;5;250m \u001b[39m\u001b[34mscatter\u001b[39m(\n\u001b[32m   3919\u001b[39m     x: \u001b[38;5;28mfloat\u001b[39m | ArrayLike,\n\u001b[32m   (...)\u001b[39m\u001b[32m   3935\u001b[39m     **kwargs,\n\u001b[32m   3936\u001b[39m ) -> PathCollection:\n\u001b[32m-> \u001b[39m\u001b[32m3937\u001b[39m     __ret = \u001b[43mgca\u001b[49m\u001b[43m(\u001b[49m\u001b[43m)\u001b[49m\u001b[43m.\u001b[49m\u001b[43mscatter\u001b[49m\u001b[43m(\u001b[49m\n\u001b[32m   3938\u001b[39m \u001b[43m        \u001b[49m\u001b[43mx\u001b[49m\u001b[43m,\u001b[49m\n\u001b[32m   3939\u001b[39m \u001b[43m        \u001b[49m\u001b[43my\u001b[49m\u001b[43m,\u001b[49m\n\u001b[32m   3940\u001b[39m \u001b[43m        \u001b[49m\u001b[43ms\u001b[49m\u001b[43m=\u001b[49m\u001b[43ms\u001b[49m\u001b[43m,\u001b[49m\n\u001b[32m   3941\u001b[39m \u001b[43m        \u001b[49m\u001b[43mc\u001b[49m\u001b[43m=\u001b[49m\u001b[43mc\u001b[49m\u001b[43m,\u001b[49m\n\u001b[32m   3942\u001b[39m \u001b[43m        \u001b[49m\u001b[43mmarker\u001b[49m\u001b[43m=\u001b[49m\u001b[43mmarker\u001b[49m\u001b[43m,\u001b[49m\n\u001b[32m   3943\u001b[39m \u001b[43m        \u001b[49m\u001b[43mcmap\u001b[49m\u001b[43m=\u001b[49m\u001b[43mcmap\u001b[49m\u001b[43m,\u001b[49m\n\u001b[32m   3944\u001b[39m \u001b[43m        \u001b[49m\u001b[43mnorm\u001b[49m\u001b[43m=\u001b[49m\u001b[43mnorm\u001b[49m\u001b[43m,\u001b[49m\n\u001b[32m   3945\u001b[39m \u001b[43m        \u001b[49m\u001b[43mvmin\u001b[49m\u001b[43m=\u001b[49m\u001b[43mvmin\u001b[49m\u001b[43m,\u001b[49m\n\u001b[32m   3946\u001b[39m \u001b[43m        \u001b[49m\u001b[43mvmax\u001b[49m\u001b[43m=\u001b[49m\u001b[43mvmax\u001b[49m\u001b[43m,\u001b[49m\n\u001b[32m   3947\u001b[39m \u001b[43m        \u001b[49m\u001b[43malpha\u001b[49m\u001b[43m=\u001b[49m\u001b[43malpha\u001b[49m\u001b[43m,\u001b[49m\n\u001b[32m   3948\u001b[39m \u001b[43m        \u001b[49m\u001b[43mlinewidths\u001b[49m\u001b[43m=\u001b[49m\u001b[43mlinewidths\u001b[49m\u001b[43m,\u001b[49m\n\u001b[32m   3949\u001b[39m \u001b[43m        \u001b[49m\u001b[43medgecolors\u001b[49m\u001b[43m=\u001b[49m\u001b[43medgecolors\u001b[49m\u001b[43m,\u001b[49m\n\u001b[32m   3950\u001b[39m \u001b[43m        \u001b[49m\u001b[43mcolorizer\u001b[49m\u001b[43m=\u001b[49m\u001b[43mcolorizer\u001b[49m\u001b[43m,\u001b[49m\n\u001b[32m   3951\u001b[39m \u001b[43m        \u001b[49m\u001b[43mplotnonfinite\u001b[49m\u001b[43m=\u001b[49m\u001b[43mplotnonfinite\u001b[49m\u001b[43m,\u001b[49m\n\u001b[32m   3952\u001b[39m \u001b[43m        \u001b[49m\u001b[43m*\u001b[49m\u001b[43m*\u001b[49m\u001b[43m(\u001b[49m\u001b[43m{\u001b[49m\u001b[33;43m\"\u001b[39;49m\u001b[33;43mdata\u001b[39;49m\u001b[33;43m\"\u001b[39;49m\u001b[43m:\u001b[49m\u001b[43m \u001b[49m\u001b[43mdata\u001b[49m\u001b[43m}\u001b[49m\u001b[43m \u001b[49m\u001b[38;5;28;43;01mif\u001b[39;49;00m\u001b[43m \u001b[49m\u001b[43mdata\u001b[49m\u001b[43m \u001b[49m\u001b[38;5;129;43;01mis\u001b[39;49;00m\u001b[43m \u001b[49m\u001b[38;5;129;43;01mnot\u001b[39;49;00m\u001b[43m \u001b[49m\u001b[38;5;28;43;01mNone\u001b[39;49;00m\u001b[43m \u001b[49m\u001b[38;5;28;43;01melse\u001b[39;49;00m\u001b[43m \u001b[49m\u001b[43m{\u001b[49m\u001b[43m}\u001b[49m\u001b[43m)\u001b[49m\u001b[43m,\u001b[49m\n\u001b[32m   3953\u001b[39m \u001b[43m        \u001b[49m\u001b[43m*\u001b[49m\u001b[43m*\u001b[49m\u001b[43mkwargs\u001b[49m\u001b[43m,\u001b[49m\n\u001b[32m   3954\u001b[39m \u001b[43m    \u001b[49m\u001b[43m)\u001b[49m\n\u001b[32m   3955\u001b[39m     sci(__ret)\n\u001b[32m   3956\u001b[39m     \u001b[38;5;28;01mreturn\u001b[39;00m __ret\n",
      "\u001b[36mFile \u001b[39m\u001b[32mc:\\Users\\elyes\\Desktop\\MALIA\\NetworkAnalysis_SearchEngine\\env_netanalysis\\Lib\\site-packages\\matplotlib\\_api\\deprecation.py:453\u001b[39m, in \u001b[36mmake_keyword_only.<locals>.wrapper\u001b[39m\u001b[34m(*args, **kwargs)\u001b[39m\n\u001b[32m    447\u001b[39m \u001b[38;5;28;01mif\u001b[39;00m \u001b[38;5;28mlen\u001b[39m(args) > name_idx:\n\u001b[32m    448\u001b[39m     warn_deprecated(\n\u001b[32m    449\u001b[39m         since, message=\u001b[33m\"\u001b[39m\u001b[33mPassing the \u001b[39m\u001b[38;5;132;01m%(name)s\u001b[39;00m\u001b[33m \u001b[39m\u001b[38;5;132;01m%(obj_type)s\u001b[39;00m\u001b[33m \u001b[39m\u001b[33m\"\u001b[39m\n\u001b[32m    450\u001b[39m         \u001b[33m\"\u001b[39m\u001b[33mpositionally is deprecated since Matplotlib \u001b[39m\u001b[38;5;132;01m%(since)s\u001b[39;00m\u001b[33m; the \u001b[39m\u001b[33m\"\u001b[39m\n\u001b[32m    451\u001b[39m         \u001b[33m\"\u001b[39m\u001b[33mparameter will become keyword-only in \u001b[39m\u001b[38;5;132;01m%(removal)s\u001b[39;00m\u001b[33m.\u001b[39m\u001b[33m\"\u001b[39m,\n\u001b[32m    452\u001b[39m         name=name, obj_type=\u001b[33mf\u001b[39m\u001b[33m\"\u001b[39m\u001b[33mparameter of \u001b[39m\u001b[38;5;132;01m{\u001b[39;00mfunc.\u001b[34m__name__\u001b[39m\u001b[38;5;132;01m}\u001b[39;00m\u001b[33m()\u001b[39m\u001b[33m\"\u001b[39m)\n\u001b[32m--> \u001b[39m\u001b[32m453\u001b[39m \u001b[38;5;28;01mreturn\u001b[39;00m \u001b[43mfunc\u001b[49m\u001b[43m(\u001b[49m\u001b[43m*\u001b[49m\u001b[43margs\u001b[49m\u001b[43m,\u001b[49m\u001b[43m \u001b[49m\u001b[43m*\u001b[49m\u001b[43m*\u001b[49m\u001b[43mkwargs\u001b[49m\u001b[43m)\u001b[49m\n",
      "\u001b[36mFile \u001b[39m\u001b[32mc:\\Users\\elyes\\Desktop\\MALIA\\NetworkAnalysis_SearchEngine\\env_netanalysis\\Lib\\site-packages\\matplotlib\\__init__.py:1521\u001b[39m, in \u001b[36m_preprocess_data.<locals>.inner\u001b[39m\u001b[34m(ax, data, *args, **kwargs)\u001b[39m\n\u001b[32m   1518\u001b[39m \u001b[38;5;129m@functools\u001b[39m.wraps(func)\n\u001b[32m   1519\u001b[39m \u001b[38;5;28;01mdef\u001b[39;00m\u001b[38;5;250m \u001b[39m\u001b[34minner\u001b[39m(ax, *args, data=\u001b[38;5;28;01mNone\u001b[39;00m, **kwargs):\n\u001b[32m   1520\u001b[39m     \u001b[38;5;28;01mif\u001b[39;00m data \u001b[38;5;129;01mis\u001b[39;00m \u001b[38;5;28;01mNone\u001b[39;00m:\n\u001b[32m-> \u001b[39m\u001b[32m1521\u001b[39m         \u001b[38;5;28;01mreturn\u001b[39;00m \u001b[43mfunc\u001b[49m\u001b[43m(\u001b[49m\n\u001b[32m   1522\u001b[39m \u001b[43m            \u001b[49m\u001b[43max\u001b[49m\u001b[43m,\u001b[49m\n\u001b[32m   1523\u001b[39m \u001b[43m            \u001b[49m\u001b[43m*\u001b[49m\u001b[38;5;28;43mmap\u001b[39;49m\u001b[43m(\u001b[49m\u001b[43mcbook\u001b[49m\u001b[43m.\u001b[49m\u001b[43msanitize_sequence\u001b[49m\u001b[43m,\u001b[49m\u001b[43m \u001b[49m\u001b[43margs\u001b[49m\u001b[43m)\u001b[49m\u001b[43m,\u001b[49m\n\u001b[32m   1524\u001b[39m \u001b[43m            \u001b[49m\u001b[43m*\u001b[49m\u001b[43m*\u001b[49m\u001b[43m{\u001b[49m\u001b[43mk\u001b[49m\u001b[43m:\u001b[49m\u001b[43m \u001b[49m\u001b[43mcbook\u001b[49m\u001b[43m.\u001b[49m\u001b[43msanitize_sequence\u001b[49m\u001b[43m(\u001b[49m\u001b[43mv\u001b[49m\u001b[43m)\u001b[49m\u001b[43m \u001b[49m\u001b[38;5;28;43;01mfor\u001b[39;49;00m\u001b[43m \u001b[49m\u001b[43mk\u001b[49m\u001b[43m,\u001b[49m\u001b[43m \u001b[49m\u001b[43mv\u001b[49m\u001b[43m \u001b[49m\u001b[38;5;129;43;01min\u001b[39;49;00m\u001b[43m \u001b[49m\u001b[43mkwargs\u001b[49m\u001b[43m.\u001b[49m\u001b[43mitems\u001b[49m\u001b[43m(\u001b[49m\u001b[43m)\u001b[49m\u001b[43m}\u001b[49m\u001b[43m)\u001b[49m\n\u001b[32m   1526\u001b[39m     bound = new_sig.bind(ax, *args, **kwargs)\n\u001b[32m   1527\u001b[39m     auto_label = (bound.arguments.get(label_namer)\n\u001b[32m   1528\u001b[39m                   \u001b[38;5;129;01mor\u001b[39;00m bound.kwargs.get(label_namer))\n",
      "\u001b[36mFile \u001b[39m\u001b[32mc:\\Users\\elyes\\Desktop\\MALIA\\NetworkAnalysis_SearchEngine\\env_netanalysis\\Lib\\site-packages\\matplotlib\\axes\\_axes.py:4948\u001b[39m, in \u001b[36mAxes.scatter\u001b[39m\u001b[34m(self, x, y, s, c, marker, cmap, norm, vmin, vmax, alpha, linewidths, edgecolors, colorizer, plotnonfinite, **kwargs)\u001b[39m\n\u001b[32m   4945\u001b[39m \u001b[38;5;28;01mif\u001b[39;00m edgecolors \u001b[38;5;129;01mis\u001b[39;00m \u001b[38;5;28;01mNone\u001b[39;00m:\n\u001b[32m   4946\u001b[39m     orig_edgecolor = kwargs.get(\u001b[33m'\u001b[39m\u001b[33medgecolor\u001b[39m\u001b[33m'\u001b[39m, \u001b[38;5;28;01mNone\u001b[39;00m)\n\u001b[32m   4947\u001b[39m c, colors, edgecolors = \\\n\u001b[32m-> \u001b[39m\u001b[32m4948\u001b[39m     \u001b[38;5;28;43mself\u001b[39;49m\u001b[43m.\u001b[49m\u001b[43m_parse_scatter_color_args\u001b[49m\u001b[43m(\u001b[49m\n\u001b[32m   4949\u001b[39m \u001b[43m        \u001b[49m\u001b[43mc\u001b[49m\u001b[43m,\u001b[49m\u001b[43m \u001b[49m\u001b[43medgecolors\u001b[49m\u001b[43m,\u001b[49m\u001b[43m \u001b[49m\u001b[43mkwargs\u001b[49m\u001b[43m,\u001b[49m\u001b[43m \u001b[49m\u001b[43mx\u001b[49m\u001b[43m.\u001b[49m\u001b[43msize\u001b[49m\u001b[43m,\u001b[49m\n\u001b[32m   4950\u001b[39m \u001b[43m        \u001b[49m\u001b[43mget_next_color_func\u001b[49m\u001b[43m=\u001b[49m\u001b[38;5;28;43mself\u001b[39;49m\u001b[43m.\u001b[49m\u001b[43m_get_patches_for_fill\u001b[49m\u001b[43m.\u001b[49m\u001b[43mget_next_color\u001b[49m\u001b[43m)\u001b[49m\n\u001b[32m   4952\u001b[39m \u001b[38;5;28;01mif\u001b[39;00m plotnonfinite \u001b[38;5;129;01mand\u001b[39;00m colors \u001b[38;5;129;01mis\u001b[39;00m \u001b[38;5;28;01mNone\u001b[39;00m:\n\u001b[32m   4953\u001b[39m     c = np.ma.masked_invalid(c)\n",
      "\u001b[36mFile \u001b[39m\u001b[32mc:\\Users\\elyes\\Desktop\\MALIA\\NetworkAnalysis_SearchEngine\\env_netanalysis\\Lib\\site-packages\\matplotlib\\axes\\_axes.py:4761\u001b[39m, in \u001b[36mAxes._parse_scatter_color_args\u001b[39m\u001b[34m(c, edgecolors, kwargs, xsize, get_next_color_func)\u001b[39m\n\u001b[32m   4759\u001b[39m \u001b[38;5;28;01melse\u001b[39;00m:\n\u001b[32m   4760\u001b[39m     \u001b[38;5;28;01mif\u001b[39;00m \u001b[38;5;129;01mnot\u001b[39;00m valid_shape:\n\u001b[32m-> \u001b[39m\u001b[32m4761\u001b[39m         \u001b[38;5;28;01mraise\u001b[39;00m invalid_shape_exception(c.size, xsize) \u001b[38;5;28;01mfrom\u001b[39;00m\u001b[38;5;250m \u001b[39m\u001b[34;01merr\u001b[39;00m\n\u001b[32m   4762\u001b[39m     \u001b[38;5;66;03m# Both the mapping *and* the RGBA conversion failed: pretty\u001b[39;00m\n\u001b[32m   4763\u001b[39m     \u001b[38;5;66;03m# severe failure => one may appreciate a verbose feedback.\u001b[39;00m\n\u001b[32m   4764\u001b[39m     \u001b[38;5;28;01mraise\u001b[39;00m \u001b[38;5;167;01mValueError\u001b[39;00m(\n\u001b[32m   4765\u001b[39m         \u001b[33mf\u001b[39m\u001b[33m\"\u001b[39m\u001b[33m'\u001b[39m\u001b[33mc\u001b[39m\u001b[33m'\u001b[39m\u001b[33m argument must be a color, a sequence of colors, \u001b[39m\u001b[33m\"\u001b[39m\n\u001b[32m   4766\u001b[39m         \u001b[33mf\u001b[39m\u001b[33m\"\u001b[39m\u001b[33mor a sequence of numbers, not \u001b[39m\u001b[38;5;132;01m{\u001b[39;00mc\u001b[38;5;132;01m!r}\u001b[39;00m\u001b[33m\"\u001b[39m) \u001b[38;5;28;01mfrom\u001b[39;00m\u001b[38;5;250m \u001b[39m\u001b[34;01merr\u001b[39;00m\n",
      "\u001b[31mValueError\u001b[39m: 'c' argument has 40596 elements, which is inconsistent with 'x' and 'y' with size 2500."
     ]
    },
    {
     "data": {
      "image/png": "[encoded data removed]",
      "text/plain": [
       "<Figure size 800x600 with 1 Axes>"
      ]
     },
     "metadata": {},
     "output_type": "display_data"
    }
   ],
   "source": [
    "# 4. Visualisation de l'Embedding obtenu via Laplacian Eigenmaps\n",
    "plt.figure(figsize=(8, 6))\n",
    "\n",
    "# Ensure the color array has the same number of nodes as the embedding\n",
    "node_colors = np.arange(len(G.nodes()))  # This should match the number of nodes in the embedding\n",
    "\n",
    "# If the number of nodes is mismatched, ensure they are consistent with the embedding size\n",
    "if len(node_colors) != len(embedding):\n",
    "    print(f\"Warning: Size mismatch! Nodes: {len(node_colors)}, Embedding: {len(embedding)}\")\n",
    "    node_colors = np.arange(len(embedding))  # Adjust node_colors to match the embedding size\n",
    "\n",
    "# Now plot the scatter plot\n",
    "plt.scatter(embedding[:, 0], embedding[:, 1], c=node_colors, cmap=\"viridis\")\n",
    "plt.title(\"Projection via Laplacian Eigenmaps\")\n",
    "plt.colorbar(label=\"Node index\")\n",
    "plt.show()\n"
   ]
  },
  {
   "cell_type": "code",
   "execution_count": null,
   "metadata": {},
   "outputs": [],
   "source": [
    "# 5. Comparaison avec une visualisation du graphe\n",
    "# Ici, on utilise un layout de type \"spring layout\" pour comparer\n",
    "pos = nx.spring_layout(G)  # Positionnement des noeuds basé sur la force des arêtes\n",
    "\n",
    "plt.figure(figsize=(8, 6))\n",
    "nx.draw(\n",
    "    G_sub,\n",
    "    pos,\n",
    "    with_labels=True,\n",
    "    node_color=np.arange(len(G.nodes())),\n",
    "    cmap=\"rainbow\",\n",
    "    node_size=500,\n",
    ")\n",
    "plt.title(\"Visualisation du graphe avec spring layout\")\n",
    "plt.show()\n"
   ]
  },
  {
   "cell_type": "code",
   "execution_count": null,
   "metadata": {},
   "outputs": [],
   "source": [
    "# 6. Optionnel : projection de l'Embedding avec t-SNE ou PCA\n",
    "# Comparer en projetant l'Embedding obtenu par Laplacian Eigenmaps avec t-SNE\n",
    "embedding_tsne = TSNE(n_components=2).fit_transform(embedding)\n",
    "\n",
    "plt.figure(figsize=(8, 6))\n",
    "plt.scatter(\n",
    "    embedding_tsne[:, 0],\n",
    "    embedding_tsne[:, 1],\n",
    "    c=np.arange(len(G.nodes())),\n",
    "    cmap=\"rainbow\",\n",
    ")\n",
    "plt.title(\"Projection via t-SNE\")\n",
    "plt.colorbar(label=\"Node index\")\n",
    "plt.show()\n"
   ]
  },
  {
   "cell_type": "code",
   "execution_count": null,
   "metadata": {},
   "outputs": [],
   "source": []
  },
  {
   "cell_type": "code",
   "execution_count": null,
   "metadata": {},
   "outputs": [],
   "source": []
  },
  {
   "cell_type": "code",
   "execution_count": null,
   "metadata": {},
   "outputs": [],
   "source": []
  },
  {
   "cell_type": "code",
   "execution_count": null,
   "metadata": {},
   "outputs": [],
   "source": []
  },
  {
   "cell_type": "code",
   "execution_count": null,
   "metadata": {},
   "outputs": [],
   "source": []
  },
  {
   "cell_type": "code",
   "execution_count": null,
   "metadata": {},
   "outputs": [],
   "source": []
  },
  {
   "cell_type": "code",
   "execution_count": null,
   "metadata": {},
   "outputs": [],
   "source": []
  },
  {
   "cell_type": "code",
   "execution_count": null,
   "metadata": {},
   "outputs": [],
   "source": []
  },
  {
   "cell_type": "code",
   "execution_count": null,
   "metadata": {},
   "outputs": [],
   "source": []
  },
  {
   "cell_type": "code",
   "execution_count": null,
   "metadata": {},
   "outputs": [],
   "source": [
    "# Define the vectorizer\n",
    "tf_vectorizer = TfidfVectorizer(use_idf=False)\n",
    "\n",
    "data_text_ = data_text.dropna(subset=[\"text\"])\n",
    "print(data_text.shape)\n",
    "\n",
    "# Fit and transform the vectorizer on the 'text' column\n",
    "X_tf = tf_vectorizer.fit_transform(data_text_[\"text\"])\n",
    "\n",
    "# Show the shape of the resulting matrix\n",
    "X_tf.shape\n"
   ]
  },
  {
   "cell_type": "code",
   "execution_count": null,
   "metadata": {},
   "outputs": [],
   "source": [
    "from sklearn.decomposition import LatentDirichletAllocation\n",
    "\n",
    "num_topics = 8\n",
    "lda_model = LatentDirichletAllocation(n_components=num_topics, random_state=42)\n",
    "X_topics = lda_model.fit_transform(X_tf)\n"
   ]
  },
  {
   "cell_type": "code",
   "execution_count": null,
   "metadata": {},
   "outputs": [],
   "source": [
    "# Assuming X_topics is the result of your LDA model (shape: [n_articles, num_topics])\n",
    "# and that df is your DataFrame\n",
    "dominant_topic = X_topics.argmax(axis=1)\n",
    "data_text_[\"dominant_topic\"] = dominant_topic\n"
   ]
  },
  {
   "cell_type": "code",
   "execution_count": null,
   "metadata": {},
   "outputs": [],
   "source": [
    "import networkx as nx\n",
    "import matplotlib.cm as cm\n",
    "import matplotlib.colors as mcolors\n",
    "\n",
    "# Assume G is the NetworkX graph built from your articles (nodes 0 to n-1)\n",
    "# and the order of the DataFrame matches the graph's node order.\n",
    "for i, row in data_text_.iterrows():\n",
    "    # Set the dominant topic as the theme\n",
    "    G.nodes[i][\"theme\"] = row[\"dominant_topic\"]\n",
    "    # Optionally, avoid heavy labels by not setting a verbose label.\n",
    "    # For instance, you could simply keep a minimal label:\n",
    "    # G.nodes[i]['label'] = f\"Topic {row['dominant_topic']}\"\n",
    "\n",
    "# Map each unique topic to a color\n",
    "unique_topics = sorted(set(data_text_[\"dominant_topic\"]))\n",
    "cmap = cm.get_cmap(\"tab10\", len(unique_topics))\n",
    "topic_color_mapping = {\n",
    "    topic: mcolors.rgb2hex(cmap(i)) for i, topic in enumerate(unique_topics)\n",
    "}\n",
    "\n",
    "# Assign the corresponding color to each node\n",
    "for n_articles in G.nodes():\n",
    "    topic = G.nodes[n_articles][\"theme\"]\n",
    "    G.nodes[n_articles][\"color\"] = topic_color_mapping.get(topic, \"#cccccc\")\n"
   ]
  },
  {
   "cell_type": "code",
   "execution_count": null,
   "metadata": {},
   "outputs": [],
   "source": [
    "# Sample a subset of nodes (e.g., 500 nodes)\n",
    "sample_size = 250  # Adjust this number based on performance\n",
    "sample_nodes = random.sample(list(G.nodes()), sample_size)\n",
    "G_sub = G.subgraph(sample_nodes)\n",
    "\n",
    "# Visualize the subgraph\n",
    "vis = sigma.Sigma(G_sub)\n",
    "# vis\n"
   ]
  },
  {
   "cell_type": "code",
   "execution_count": null,
   "metadata": {},
   "outputs": [],
   "source": [
    "import community as community_louvain\n",
    "import networkx as nx\n",
    "\n",
    "# Run the Louvain algorithm on your graph G\n",
    "# This returns a dictionary mapping each node to its detected community.\n",
    "partition = community_louvain.best_partition(G)\n",
    "\n",
    "# Add the computed cluster to each node's attributes in the graph.\n",
    "for node, cluster in partition.items():\n",
    "    G.nodes[node][\"cluster\"] = cluster\n",
    "\n",
    "# Optionally, add the cluster information to your DataFrame.\n",
    "data_text[\"cluster\"] = data_text.index.map(lambda i: partition[i])\n"
   ]
  },
  {
   "cell_type": "code",
   "execution_count": null,
   "metadata": {},
   "outputs": [],
   "source": [
    "import matplotlib.cm as cm\n",
    "import matplotlib.colors as mcolors\n",
    "\n",
    "# Get unique clusters detected by Louvain.\n",
    "unique_clusters = sorted(set(partition.values()))\n",
    "\n",
    "# Create a colormap (here, 'tab20' is used, which gives up to 20 distinct colors).\n",
    "cmap = cm.get_cmap(\"tab20\", len(unique_clusters))\n",
    "cluster_color_mapping = {\n",
    "    cluster: mcolors.rgb2hex(cmap(i)) for i, cluster in enumerate(unique_clusters)\n",
    "}\n",
    "\n",
    "# Update each node with its corresponding color.\n",
    "for node in G.nodes():\n",
    "    G.nodes[node][\"color\"] = cluster_color_mapping[G.nodes[node][\"cluster\"]]\n"
   ]
  },
  {
   "cell_type": "code",
   "execution_count": null,
   "metadata": {},
   "outputs": [],
   "source": [
    "import random\n",
    "import ipysigma as sigma\n",
    "\n",
    "# Define the sample size\n",
    "sample_size = 250  # adjust as needed\n",
    "\n",
    "# Randomly select a subset of nodes from the graph\n",
    "sample_nodes = random.sample(list(G.nodes()), sample_size)\n",
    "\n",
    "# Create a subgraph from the sampled nodes. .copy() ensures you have an independent graph object.\n",
    "G_sub = G.subgraph(sample_nodes).copy()\n",
    "\n",
    "# Visualize the subgraph using ipysigma\n",
    "vis = sigma.Sigma(G_sub)\n",
    "# vis\n"
   ]
  },
  {
   "cell_type": "code",
   "execution_count": null,
   "metadata": {},
   "outputs": [],
   "source": [
    "from karateclub import DeepWalk\n",
    "import networkx as nx\n",
    "\n",
    "# Assume G_sub is your subgraph (a NetworkX graph)\n",
    "# Create and configure the DeepWalk model\n",
    "deepwalk_model = DeepWalk(dimensions=64, walk_number=200, walk_length=30, workers=4)\n",
    "\n",
    "# Fit the model on your graph\n",
    "deepwalk_model.fit(G_sub)\n",
    "\n",
    "# Get the node embeddings (rows correspond to nodes in the same order as G_sub.nodes())\n",
    "embeddings = deepwalk_model.get_embedding()\n"
   ]
  },
  {
   "cell_type": "code",
   "execution_count": null,
   "metadata": {},
   "outputs": [],
   "source": [
    "from sklearn.manifold import TSNE\n",
    "import matplotlib.pyplot as plt\n",
    "\n",
    "tsne = TSNE(n_components=2, random_state=42)\n",
    "embeddings_2d = tsne.fit_transform(embeddings)\n",
    "\n",
    "# Plot the projected embeddings\n",
    "plt.figure(figsize=(8, 6))\n",
    "plt.scatter(embeddings_2d[:, 0], embeddings_2d[:, 1], s=20, c=\"blue\", alpha=0.7)\n",
    "plt.title(\"t-SNE Projection of Node2Vec Embeddings\")\n",
    "plt.xlabel(\"t-SNE-1\")\n",
    "plt.ylabel(\"t-SNE-2\")\n",
    "plt.show()\n"
   ]
  }
 ],
 "metadata": {
  "kernelspec": {
   "display_name": "env_na",
   "language": "python",
   "name": "python3"
  },
  "language_info": {
   "codemirror_mode": {
    "name": "ipython",
    "version": 3
   },
   "file_extension": ".py",
   "mimetype": "text/x-python",
   "name": "python",
   "nbconvert_exporter": "python",
   "pygments_lexer": "ipython3",
   "version": "3.12.9"
  }
 },
 "nbformat": 4,
 "nbformat_minor": 2
}
