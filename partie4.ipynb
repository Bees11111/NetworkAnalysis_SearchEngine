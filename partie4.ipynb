{
 "cells": [
  {
   "cell_type": "markdown",
   "metadata": {},
   "source": [
    "# Network Analysis for Information Retrieval - Part 4\n",
    "\n",
    "Elyes KHALFALLAH & Mohammed Ali EL ADLOUNI\n",
    "\n",
    "16/03/2025\n",
    "\n",
    "---\n",
    "\n",
    "---\n"
   ]
  },
  {
   "cell_type": "code",
   "execution_count": 1,
   "metadata": {},
   "outputs": [],
   "source": [
    "# Useful libraries\n",
    "from fonctions import *\n",
    "import numpy as np\n",
    "import pandas as pd\n",
    "import matplotlib.pyplot as plt\n",
    "import matplotlib.cm as cm\n",
    "import matplotlib.colors as mcolors\n",
    "import networkx as nx\n",
    "import ipysigma as sigma\n",
    "import random\n",
    "import community.community_louvain as community_louvain\n",
    "from sklearn.cluster import KMeans, SpectralClustering\n",
    "from sklearn.decomposition import PCA, TruncatedSVD\n",
    "from sklearn.manifold import TSNE\n",
    "from sklearn.preprocessing import StandardScaler\n",
    "from sklearn.feature_extraction.text import TfidfVectorizer\n",
    "from scipy.sparse import csr_matrix\n",
    "from scipy.linalg import eigh\n",
    "from sklearn.feature_extraction.text import TfidfVectorizer\n",
    "import torch\n",
    "import torch.nn as nn\n",
    "import torch.nn.functional as F\n",
    "import torch.optim as optim\n",
    "import numpy as np\n",
    "import scipy.sparse as sp\n"
   ]
  },
  {
   "cell_type": "code",
   "execution_count": 2,
   "metadata": {},
   "outputs": [
    {
     "name": "stdout",
     "output_type": "stream",
     "text": [
      "(40596, 10)\n"
     ]
    }
   ],
   "source": [
    "# Load data\n",
    "data_text = pd.read_csv(\"data_text.csv\")\n",
    "print(data_text.shape)\n"
   ]
  },
  {
   "cell_type": "code",
   "execution_count": 3,
   "metadata": {},
   "outputs": [
    {
     "name": "stdout",
     "output_type": "stream",
     "text": [
      "<class 'pandas.core.frame.DataFrame'>\n",
      "RangeIndex: 40596 entries, 0 to 40595\n",
      "Data columns (total 10 columns):\n",
      " #   Column      Non-Null Count  Dtype \n",
      "---  ------      --------------  ----- \n",
      " 0   text        39980 non-null  object\n",
      " 1   venue       40596 non-null  object\n",
      " 2   abstract    18013 non-null  object\n",
      " 3   authors     40596 non-null  object\n",
      " 4   n_citation  40596 non-null  int64 \n",
      " 5   references  27246 non-null  object\n",
      " 6   title       40596 non-null  object\n",
      " 7   year        40596 non-null  int64 \n",
      " 8   id          40596 non-null  object\n",
      " 9   class       40596 non-null  int64 \n",
      "dtypes: int64(3), object(7)\n",
      "memory usage: 3.1+ MB\n"
     ]
    }
   ],
   "source": [
    "data_text.info()\n"
   ]
  },
  {
   "cell_type": "code",
   "execution_count": 4,
   "metadata": {},
   "outputs": [
    {
     "data": {
      "text/html": [
       "<div>\n",
       "<style scoped>\n",
       "    .dataframe tbody tr th:only-of-type {\n",
       "        vertical-align: middle;\n",
       "    }\n",
       "\n",
       "    .dataframe tbody tr th {\n",
       "        vertical-align: top;\n",
       "    }\n",
       "\n",
       "    .dataframe thead th {\n",
       "        text-align: right;\n",
       "    }\n",
       "</style>\n",
       "<table border=\"1\" class=\"dataframe\">\n",
       "  <thead>\n",
       "    <tr style=\"text-align: right;\">\n",
       "      <th></th>\n",
       "      <th>text</th>\n",
       "      <th>venue</th>\n",
       "      <th>abstract</th>\n",
       "      <th>authors</th>\n",
       "      <th>n_citation</th>\n",
       "      <th>references</th>\n",
       "      <th>title</th>\n",
       "      <th>year</th>\n",
       "      <th>id</th>\n",
       "      <th>class</th>\n",
       "    </tr>\n",
       "  </thead>\n",
       "  <tbody>\n",
       "    <tr>\n",
       "      <th>0</th>\n",
       "      <td>preliminary comprehension school mind school s...</td>\n",
       "      <td>international conference on human-computer int...</td>\n",
       "      <td>The purpose of this study is to develop a lear...</td>\n",
       "      <td>['Makoto Satoh', 'Ryo Muramatsu', 'Mizue Kayam...</td>\n",
       "      <td>0</td>\n",
       "      <td>['51c7e02e-f5ed-431a-8cf5-f761f266d4be', '69b6...</td>\n",
       "      <td>Preliminary Design of a Network Protocol Learn...</td>\n",
       "      <td>2013</td>\n",
       "      <td>00127ee2-cb05-48ce-bc49-9de556b93346</td>\n",
       "      <td>3</td>\n",
       "    </tr>\n",
       "  </tbody>\n",
       "</table>\n",
       "</div>"
      ],
      "text/plain": [
       "                                                text  \\\n",
       "0  preliminary comprehension school mind school s...   \n",
       "\n",
       "                                               venue  \\\n",
       "0  international conference on human-computer int...   \n",
       "\n",
       "                                            abstract  \\\n",
       "0  The purpose of this study is to develop a lear...   \n",
       "\n",
       "                                             authors  n_citation  \\\n",
       "0  ['Makoto Satoh', 'Ryo Muramatsu', 'Mizue Kayam...           0   \n",
       "\n",
       "                                          references  \\\n",
       "0  ['51c7e02e-f5ed-431a-8cf5-f761f266d4be', '69b6...   \n",
       "\n",
       "                                               title  year  \\\n",
       "0  Preliminary Design of a Network Protocol Learn...  2013   \n",
       "\n",
       "                                     id  class  \n",
       "0  00127ee2-cb05-48ce-bc49-9de556b93346      3  "
      ]
     },
     "execution_count": 4,
     "metadata": {},
     "output_type": "execute_result"
    }
   ],
   "source": [
    "data_text[:1]\n"
   ]
  },
  {
   "cell_type": "code",
   "execution_count": 5,
   "metadata": {},
   "outputs": [
    {
     "name": "stdout",
     "output_type": "stream",
     "text": [
      "(39980, 10)\n"
     ]
    }
   ],
   "source": [
    "# When removing stopwords and most common words, some rows may become empty. We need to remove them.\n",
    "df = data_text.dropna(subset=[\"text\"])\n",
    "print(df.shape)\n"
   ]
  },
  {
   "cell_type": "code",
   "execution_count": 6,
   "metadata": {},
   "outputs": [
    {
     "data": {
      "text/plain": [
       "(39980, 54973)"
      ]
     },
     "execution_count": 6,
     "metadata": {},
     "output_type": "execute_result"
    }
   ],
   "source": [
    "# Nous allons maintenant construire la matrice Documents x Termes en adoprant le schéma de pondération TF-IDF\n",
    "\n",
    "# Define the vectorizer\n",
    "tf_vectorizer = TfidfVectorizer(use_idf=False)\n",
    "tfidf_vectorizer = TfidfVectorizer()\n",
    "\n",
    "# Fit and transform the vectorizer on the 'text' column\n",
    "X_tf = tf_vectorizer.fit_transform(df[\"text\"])\n",
    "X_tfidf = tfidf_vectorizer.fit_transform(df[\"text\"])\n",
    "\n",
    "# Show the shape of the resulting matrix\n",
    "X_tfidf.shape\n"
   ]
  },
  {
   "cell_type": "code",
   "execution_count": 7,
   "metadata": {},
   "outputs": [],
   "source": [
    "from scipy.sparse import csr_matrix\n",
    "\n",
    "# Compute sparse adjacency matrix\n",
    "A = X_tfidf @ X_tfidf.T  # Sparse matrix multiplication\n",
    "A = csr_matrix(A)  # Ensure it's stored efficiently\n"
   ]
  },
  {
   "cell_type": "code",
   "execution_count": 8,
   "metadata": {},
   "outputs": [
    {
     "name": "stdout",
     "output_type": "stream",
     "text": [
      "39980\n",
      "3998\n"
     ]
    }
   ],
   "source": [
    "num_nodes = X_tfidf.shape[0] \n",
    "subset_size = int(num_nodes * 0.1) \n",
    "print(num_nodes)\n",
    "print(subset_size)\n"
   ]
  },
  {
   "cell_type": "code",
   "execution_count": 9,
   "metadata": {},
   "outputs": [],
   "source": [
    "# Suppose idx_subset is a list or tensor of indices you want to keep\n",
    "subset_idx = np.random.choice(num_nodes, subset_size, replace=False)\n",
    "subset_idx = np.sort(subset_idx)  # Optional, for consistent ordering\n",
    "\n",
    "# Extract subgraph from the sparse adjacency matrix A (make sure A is in CSR/CSC format)\n",
    "A_subset = A[subset_idx, :][:, subset_idx]\n"
   ]
  },
  {
   "cell_type": "code",
   "execution_count": 10,
   "metadata": {},
   "outputs": [],
   "source": [
    "# Utility function: normalize a sparse adjacency matrix (add self-loops and symmetrically normalize)\n",
    "def normalize_adj(adj):\n",
    "    # Add self-loops: A_tilde = A + I\n",
    "    adj = adj + sp.eye(adj.shape[0])\n",
    "    # Compute the degree matrix\n",
    "    rowsum = np.array(adj.sum(1))\n",
    "    d_inv_sqrt = np.power(rowsum, -0.5).flatten()\n",
    "    d_inv_sqrt[np.isinf(d_inv_sqrt)] = 0.\n",
    "    d_mat_inv_sqrt = sp.diags(d_inv_sqrt)\n",
    "    # Return A_norm = D^(-1/2) * A_tilde * D^(-1/2)\n",
    "    return adj.dot(d_mat_inv_sqrt).transpose().dot(d_mat_inv_sqrt).tocoo()\n",
    "\n",
    "# Utility function: convert a scipy sparse matrix to a torch sparse tensor\n",
    "def sparse_mx_to_torch_sparse_tensor(sparse_mx):\n",
    "    \"\"\"Convert a scipy sparse matrix to a torch sparse tensor.\"\"\"\n",
    "    sparse_mx = sparse_mx.tocoo().astype(np.float32)\n",
    "    indices = torch.from_numpy(\n",
    "        np.vstack((sparse_mx.row, sparse_mx.col)).astype(np.int64)\n",
    "    )\n",
    "    values = torch.from_numpy(sparse_mx.data)\n",
    "    shape = torch.Size(sparse_mx.shape)\n",
    "    return torch.sparse.FloatTensor(indices, values, shape)\n"
   ]
  },
  {
   "cell_type": "code",
   "execution_count": 11,
   "metadata": {},
   "outputs": [],
   "source": [
    "# # Define a single Graph Convolution layer\n",
    "# class GraphConvolution(nn.Module):\n",
    "#     def __init__(self, in_features, out_features, bias=True):\n",
    "#         super(GraphConvolution, self).__init__()\n",
    "#         # Learnable weight matrix\n",
    "#         self.weight = nn.Parameter(torch.FloatTensor(in_features, out_features))\n",
    "#         if bias:\n",
    "#             self.bias = nn.Parameter(torch.FloatTensor(out_features))\n",
    "#         else:\n",
    "#             self.register_parameter('bias', None)\n",
    "#         self.reset_parameters()\n",
    "    \n",
    "#     def reset_parameters(self):\n",
    "#         # Initialize weights using Xavier uniform initialization\n",
    "#         nn.init.xavier_uniform_(self.weight)\n",
    "#         if self.bias is not None:\n",
    "#             nn.init.zeros_(self.bias)\n",
    "    \n",
    "#     def forward(self, input, adj):\n",
    "#         # Multiply input features with weight matrix\n",
    "#         support = torch.mm(input, self.weight)\n",
    "#         # Propagate the features through the graph\n",
    "#         output = torch.spmm(adj, support) if adj.is_sparse else torch.mm(adj, support)\n",
    "#         if self.bias is not None:\n",
    "#             return output + self.bias\n",
    "#         else:\n",
    "#             return output\n",
    "\n",
    "# # Define the complete GCN model\n",
    "# class GCN(nn.Module):\n",
    "#     def __init__(self, n_features, hidden_dim, n_classes):\n",
    "#         super(GCN, self).__init__()\n",
    "#         # First GCN layer\n",
    "#         self.gc1 = GraphConvolution(n_features, hidden_dim)\n",
    "#         # Second GCN layer (output layer)\n",
    "#         self.gc2 = GraphConvolution(hidden_dim, n_classes)\n",
    "    \n",
    "\n",
    "#     def forward(self, x, adj):\n",
    "#         # First layer with ReLU activation\n",
    "#         x = F.relu(self.gc1(x, adj))\n",
    "#         # Dropout for regularization (only active during training)\n",
    "#         x = F.dropout(x, training=self.training)\n",
    "#         # Second layer: get raw logits\n",
    "#         x = self.gc2(x, adj)\n",
    "#         return F.log_softmax(x, dim=1)\n"
   ]
  },
  {
   "cell_type": "code",
   "execution_count": 12,
   "metadata": {},
   "outputs": [],
   "source": [
    "class GraphConvolution(nn.Module):\n",
    "    def __init__(self, in_features, out_features, bias=True):\n",
    "        super(GraphConvolution, self).__init__()\n",
    "        self.weight = nn.Parameter(torch.FloatTensor(in_features, out_features))\n",
    "        if bias:\n",
    "            self.bias = nn.Parameter(torch.FloatTensor(out_features))\n",
    "        else:\n",
    "            self.register_parameter('bias', None)\n",
    "        self.reset_parameters()\n",
    "    \n",
    "    def reset_parameters(self):\n",
    "        nn.init.xavier_uniform_(self.weight)\n",
    "        if self.bias is not None:\n",
    "            nn.init.zeros_(self.bias)\n",
    "    \n",
    "    def forward(self, input, adj):\n",
    "        # Utilise torch.spmm si le tenseur d'entrée est sparse, sinon torch.mm\n",
    "        support = torch.spmm(input, self.weight) if input.is_sparse else torch.mm(input, self.weight)\n",
    "        output = torch.spmm(adj, support) if adj.is_sparse else torch.mm(adj, support)\n",
    "        return output + self.bias if self.bias is not None else output\n",
    "\n",
    "# Définition du modèle GCN\n",
    "class GCN(nn.Module):\n",
    "    def __init__(self, n_features, hidden_dim, n_classes):\n",
    "        super(GCN, self).__init__()\n",
    "        # Première couche GCN\n",
    "        self.gc1 = GraphConvolution(n_features, hidden_dim)\n",
    "        # Deuxième couche GCN (couche de sortie)\n",
    "        self.gc2 = GraphConvolution(hidden_dim, n_classes)\n",
    "    \n",
    "    def forward(self, input, adj):\n",
    "        # Utilisation des sous-couches définies\n",
    "        x = F.relu(self.gc1(input, adj))\n",
    "        x = F.dropout(x, training=self.training)\n",
    "        x = self.gc2(x, adj)\n",
    "        return F.log_softmax(x, dim=1)\n"
   ]
  },
  {
   "cell_type": "code",
   "execution_count": 13,
   "metadata": {},
   "outputs": [
    {
     "name": "stderr",
     "output_type": "stream",
     "text": [
      "C:\\Users\\medal\\AppData\\Local\\Temp\\ipykernel_21756\\1087387160.py:22: UserWarning: torch.sparse.SparseTensor(indices, values, shape, *, device=) is deprecated.  Please use torch.sparse_coo_tensor(indices, values, shape, dtype=, device=). (Triggered internally at C:\\actions-runner\\_work\\pytorch\\pytorch\\pytorch\\torch\\csrc\\utils\\tensor_new.cpp:646.)\n",
      "  return torch.sparse.FloatTensor(indices, values, shape)\n"
     ]
    }
   ],
   "source": [
    "# Normalize the adjacency matrix and convert to a torch sparse tensor\n",
    "A_subset_norm = normalize_adj(A_subset)\n",
    "adj_torch = sparse_mx_to_torch_sparse_tensor(A_subset_norm)\n",
    "\n",
    "# save the adjacency matrix\n",
    "# torch.save(adj_torch, \"adj_torch.pt\")\n"
   ]
  },
  {
   "cell_type": "code",
   "execution_count": 14,
   "metadata": {},
   "outputs": [],
   "source": [
    "# save the adjacency matrix\n",
    "# torch.save(adj_torch, \"adj_torch.pt\")\n"
   ]
  },
  {
   "cell_type": "code",
   "execution_count": 15,
   "metadata": {},
   "outputs": [],
   "source": [
    "# adj_torch  = torch.load(\"adj_torch.pt\")\n"
   ]
  },
  {
   "cell_type": "code",
   "execution_count": 16,
   "metadata": {},
   "outputs": [],
   "source": [
    "# First, index the SciPy sparse matrix using your subset indices:\n",
    "X_subset_sparse = X_tfidf[subset_idx]  # This selects the rows corresponding to subset_idx\n",
    "\n",
    "# Then, convert the submatrix to a PyTorch sparse tensor:\n",
    "X_subset = sparse_mx_to_torch_sparse_tensor(X_subset_sparse)\n"
   ]
  },
  {
   "cell_type": "code",
   "execution_count": 17,
   "metadata": {},
   "outputs": [
    {
     "data": {
      "text/plain": [
       "tensor(indices=tensor([[    0,     0,     0,  ...,  3996,  3996,  3997],\n",
       "                       [ 2441,  2687,  6231,  ..., 53518, 54069, 13022]]),\n",
       "       values=tensor([0.4509, 0.2058, 0.2183,  ..., 0.1164, 0.0877, 1.0000]),\n",
       "       size=(3998, 54973), nnz=62379, layout=torch.sparse_coo)"
      ]
     },
     "execution_count": 17,
     "metadata": {},
     "output_type": "execute_result"
    }
   ],
   "source": [
    "X_subset\n"
   ]
  },
  {
   "cell_type": "code",
   "execution_count": 18,
   "metadata": {},
   "outputs": [],
   "source": [
    "labels = torch.LongTensor(df['class'].values)\n",
    "idx_train = torch.arange(0, int(0.8 * X_tfidf.shape[0]))  # 80% training\n",
    "idx_test = torch.arange(int(0.8 * X_tfidf.shape[0]), X_tfidf.shape[0])\n",
    "\n"
   ]
  },
  {
   "cell_type": "code",
   "execution_count": 19,
   "metadata": {},
   "outputs": [],
   "source": [
    "# Define model hyperparameters\n",
    "n_features = X_tfidf.shape[1]  # Number of input features\n",
    "hidden_dim = 16  # for example\n",
    "n_classes = 8    # adjust based on your actual number of classes\n",
    "\n",
    "# Initialize the model, loss, and optimizer\n",
    "model = GCN(n_features, hidden_dim, n_classes)\n",
    "optimizer = optim.Adam(model.parameters(), lr=0.01, weight_decay=5e-4)\n",
    "criterion = nn.NLLLoss()\n"
   ]
  },
  {
   "cell_type": "code",
   "execution_count": 20,
   "metadata": {},
   "outputs": [],
   "source": [
    "def sparse_mx_to_torch_sparse_tensor(sparse_mx):\n",
    "    \"\"\"Convert a scipy sparse matrix to a torch sparse tensor.\"\"\"\n",
    "    sparse_mx = sparse_mx.tocoo().astype(np.float32)\n",
    "    indices = torch.from_numpy(\n",
    "        np.vstack((sparse_mx.row, sparse_mx.col)).astype(np.int64)\n",
    "    )\n",
    "    values = torch.from_numpy(sparse_mx.data)\n",
    "    shape = torch.Size(sparse_mx.shape)\n",
    "    return torch.sparse.FloatTensor(indices, values, shape)\n",
    "\n",
    "X_torch = sparse_mx_to_torch_sparse_tensor(X_tfidf)\n"
   ]
  },
  {
   "cell_type": "code",
   "execution_count": 21,
   "metadata": {},
   "outputs": [
    {
     "data": {
      "text/plain": [
       "torch.Size([39980, 54973])"
      ]
     },
     "execution_count": 21,
     "metadata": {},
     "output_type": "execute_result"
    }
   ],
   "source": [
    "X_torch.shape\n"
   ]
  },
  {
   "cell_type": "code",
   "execution_count": 22,
   "metadata": {},
   "outputs": [],
   "source": [
    "labels_subset = labels[subset_idx]\n"
   ]
  },
  {
   "cell_type": "code",
   "execution_count": 23,
   "metadata": {},
   "outputs": [],
   "source": [
    "labels = torch.LongTensor(df['class'].values - 1)\n"
   ]
  },
  {
   "cell_type": "code",
   "execution_count": 24,
   "metadata": {},
   "outputs": [],
   "source": [
    "# num_nodes = X_subset.shape[0]\n",
    "# subset_ratio = 0.01  # e.g., use 10% of nodes for training\n",
    "# subset_size = int(num_nodes * subset_ratio)\n",
    "# subset_idx = np.random.choice(num_nodes, subset_size, replace=False)\n",
    "# idx_train = torch.LongTensor(subset_idx)\n",
    "\n",
    "# import matplotlib.pyplot as plt\n",
    "\n",
    "# # Lists to store training metrics\n",
    "# train_losses = []\n",
    "# train_accuracies = []\n",
    "\n",
    "# model.train()\n",
    "# epochs = 200\n",
    "# for epoch in range(epochs):\n",
    "#     optimizer.zero_grad()\n",
    "#     output = model(X_subset, adj_torch)\n",
    "    \n",
    "#     # Compute loss on training nodes\n",
    "#     loss = criterion(output[idx_train], labels[idx_train])\n",
    "#     loss.backward()\n",
    "#     optimizer.step()\n",
    "    \n",
    "#     # Record training loss\n",
    "#     train_losses.append(loss.item())\n",
    "    \n",
    "#     # Compute training accuracy on the selected nodes\n",
    "#     _, preds = torch.max(output[idx_train], 1)\n",
    "#     correct = torch.sum(preds == labels[idx_train]).item()\n",
    "#     train_acc = correct / len(idx_train)\n",
    "#     train_accuracies.append(train_acc)\n",
    "    \n",
    "#     # Print performance every 10 epochs\n",
    "#     if epoch % 10 == 0:\n",
    "#         print(f\"Epoch {epoch:03d} - Loss: {loss.item():.4f} - Train Accuracy: {train_acc:.4f}\")\n",
    "\n",
    "# # Plot training loss curve\n",
    "# plt.figure(figsize=(10, 5))\n",
    "# plt.plot(range(epochs), train_losses, label='Training Loss')\n",
    "# plt.xlabel(\"Epoch\")\n",
    "# plt.ylabel(\"Loss\")\n",
    "# plt.title(\"Training Loss Curve\")\n",
    "# plt.legend()\n",
    "# plt.show()\n",
    "\n",
    "# # Plot training accuracy curve\n",
    "# plt.figure(figsize=(10, 5))\n",
    "# plt.plot(range(epochs), train_accuracies, label='Training Accuracy')\n",
    "# plt.xlabel(\"Epoch\")\n",
    "# plt.ylabel(\"Accuracy\")\n",
    "# plt.title(\"Training Accuracy Curve\")\n",
    "# plt.legend()\n",
    "# plt.show()\n"
   ]
  },
  {
   "cell_type": "code",
   "execution_count": 25,
   "metadata": {},
   "outputs": [
    {
     "name": "stdout",
     "output_type": "stream",
     "text": [
      "Epoch 000 - Loss: 2.0789 - Train Accuracy: 0.2258\n",
      "Epoch 010 - Loss: 1.7269 - Train Accuracy: 0.2258\n",
      "Epoch 020 - Loss: 1.4491 - Train Accuracy: 0.6129\n",
      "Epoch 030 - Loss: 1.2044 - Train Accuracy: 0.8065\n",
      "Epoch 040 - Loss: 0.9683 - Train Accuracy: 0.8387\n",
      "Epoch 050 - Loss: 0.8138 - Train Accuracy: 0.9032\n",
      "Epoch 060 - Loss: 0.6866 - Train Accuracy: 0.9032\n",
      "Epoch 070 - Loss: 0.5551 - Train Accuracy: 0.9032\n",
      "Epoch 080 - Loss: 0.4410 - Train Accuracy: 0.9355\n",
      "Epoch 090 - Loss: 0.3818 - Train Accuracy: 0.9355\n",
      "Epoch 100 - Loss: 0.3976 - Train Accuracy: 0.9355\n",
      "Epoch 110 - Loss: 0.3772 - Train Accuracy: 1.0000\n",
      "Epoch 120 - Loss: 0.3306 - Train Accuracy: 0.9032\n",
      "Epoch 130 - Loss: 0.2547 - Train Accuracy: 1.0000\n",
      "Epoch 140 - Loss: 0.2471 - Train Accuracy: 1.0000\n",
      "Epoch 150 - Loss: 0.2491 - Train Accuracy: 0.9355\n",
      "Epoch 160 - Loss: 0.2766 - Train Accuracy: 0.9677\n",
      "Epoch 170 - Loss: 0.2327 - Train Accuracy: 0.9355\n",
      "Epoch 180 - Loss: 0.1830 - Train Accuracy: 1.0000\n",
      "Epoch 190 - Loss: 0.2270 - Train Accuracy: 0.9677\n"
     ]
    }
   ],
   "source": [
    "num_nodes = X_subset.shape[0]\n",
    "subset_ratio = 0.01  # e.g., use 10% of nodes for training\n",
    "subset_size = int(num_nodes * subset_ratio)\n",
    "subset_idx = np.random.choice(num_nodes, subset_size, replace=False)\n",
    "idx_train = torch.LongTensor(subset_idx)\n",
    "\n",
    "import matplotlib.pyplot as plt\n",
    "\n",
    "# Lists to store training metrics\n",
    "train_losses = []\n",
    "train_accuracies = []\n",
    "\n",
    "\n",
    "\n",
    "\n",
    "\n",
    "num_nodes = X_subset.shape[0]\n",
    "\n",
    "# Select a random subset of nodes from the available subset\n",
    "# Here, subset_ratio defines what fraction of nodes to use from X_subset.\n",
    "subset_ratio = 0.01  # for example, 1% of nodes\n",
    "subset_size = int(num_nodes * subset_ratio)\n",
    "all_subset_idx = np.random.choice(num_nodes, subset_size, replace=False)\n",
    "\n",
    "# Split the indices into training and evaluation sets (e.g., 80/20 split)\n",
    "np.random.shuffle(all_subset_idx)\n",
    "train_size = int(0.8 * subset_size)\n",
    "train_idx = all_subset_idx[:train_size]\n",
    "eval_idx = all_subset_idx[train_size:]\n",
    "\n",
    "# Convert indices to torch LongTensors\n",
    "idx_train = torch.LongTensor(train_idx)\n",
    "idx_eval = torch.LongTensor(eval_idx)\n",
    "\n",
    "# -----------------------------\n",
    "# Training Loop\n",
    "# -----------------------------\n",
    "# Lists to store training metrics\n",
    "train_losses = []\n",
    "train_accuracies = []\n",
    "\n",
    "model.train()\n",
    "epochs = 200\n",
    "for epoch in range(epochs):\n",
    "    optimizer.zero_grad()\n",
    "    output = model(X_subset, adj_torch)\n",
    "    \n",
    "    # Compute loss on training nodes\n",
    "    loss = criterion(output[idx_train], labels[idx_train])\n",
    "    loss.backward()\n",
    "    optimizer.step()\n",
    "    \n",
    "    # Record training loss\n",
    "    train_losses.append(loss.item())\n",
    "    \n",
    "    # Compute training accuracy on the selected nodes\n",
    "    _, preds = torch.max(output[idx_train], 1)\n",
    "    correct = torch.sum(preds == labels[idx_train]).item()\n",
    "    train_acc = correct / len(idx_train)\n",
    "    train_accuracies.append(train_acc)\n",
    "    \n",
    "    # Print performance every 10 epochs\n",
    "    if epoch % 10 == 0:\n",
    "        print(f\"Epoch {epoch:03d} - Loss: {loss.item():.4f} - Train Accuracy: {train_acc:.4f}\")\n",
    "\n",
    "\n",
    "\n"
   ]
  },
  {
   "cell_type": "code",
   "execution_count": 26,
   "metadata": {},
   "outputs": [
    {
     "data": {
      "image/png": "[encoded data removed]",
      "text/plain": [
       "<Figure size 1000x500 with 1 Axes>"
      ]
     },
     "metadata": {},
     "output_type": "display_data"
    },
    {
     "data": {
      "image/png": "[encoded data removed]",
      "text/plain": [
       "<Figure size 1000x500 with 1 Axes>"
      ]
     },
     "metadata": {},
     "output_type": "display_data"
    }
   ],
   "source": [
    "# Plot training loss curve\n",
    "plt.figure(figsize=(10, 5))\n",
    "plt.plot(range(epochs), train_losses, label='Training Loss')\n",
    "plt.xlabel(\"Epoch\")\n",
    "plt.ylabel(\"Loss\")\n",
    "plt.title(\"Training Loss Curve\")\n",
    "plt.legend()\n",
    "plt.show()\n",
    "\n",
    "# Plot training accuracy curve\n",
    "plt.figure(figsize=(10, 5))\n",
    "plt.plot(range(epochs), train_accuracies, label='Training Accuracy')\n",
    "plt.xlabel(\"Epoch\")\n",
    "plt.ylabel(\"Accuracy\")\n",
    "plt.title(\"Training Accuracy Curve\")\n",
    "plt.legend()\n",
    "plt.show()\n",
    "\n"
   ]
  },
  {
   "cell_type": "code",
   "execution_count": 27,
   "metadata": {},
   "outputs": [
    {
     "name": "stdout",
     "output_type": "stream",
     "text": [
      "Evaluation Accuracy: 0.1250\n"
     ]
    }
   ],
   "source": [
    "# -----------------------------\n",
    "# Evaluation\n",
    "# -----------------------------\n",
    "model.eval()\n",
    "with torch.no_grad():\n",
    "    output = model(X_subset, adj_torch)\n",
    "    # Get predictions: choose the class with the highest log-probability\n",
    "    pred = output.argmax(dim=1)\n",
    "    # Compare predictions against labels for evaluation nodes\n",
    "    correct = pred[idx_eval].eq(labels[idx_eval]).sum().item()\n",
    "    accuracy = correct / idx_eval.shape[0]\n",
    "    print(f\"Evaluation Accuracy: {accuracy:.4f}\")\n"
   ]
  }
 ],
 "metadata": {
  "kernelspec": {
   "display_name": "env_netanalysis",
   "language": "python",
   "name": "python3"
  },
  "language_info": {
   "codemirror_mode": {
    "name": "ipython",
    "version": 3
   },
   "file_extension": ".py",
   "mimetype": "text/x-python",
   "name": "python",
   "nbconvert_exporter": "python",
   "pygments_lexer": "ipython3",
   "version": "3.12.9"
  }
 },
 "nbformat": 4,
 "nbformat_minor": 2
}
