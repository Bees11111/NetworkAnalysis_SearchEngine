{
 "cells": [
  {
   "cell_type": "markdown",
   "metadata": {},
   "source": [
    "# Network Analysis for Information Retrieval - Part 1\n",
    "\n",
    "Elyes KHALFALLAH & Mohammed Ali EL ADLOUNI\n",
    "\n",
    "16/03/2025\n",
    "\n",
    "---\n",
    "\n",
    "---\n"
   ]
  },
  {
   "cell_type": "code",
   "execution_count": 22,
   "metadata": {},
   "outputs": [
    {
     "data": {
      "text/plain": [
       "True"
      ]
     },
     "execution_count": 22,
     "metadata": {},
     "output_type": "execute_result"
    }
   ],
   "source": [
    "# Useful libraries\n",
    "import nltk\n",
    "import re\n",
    "import numpy as np\n",
    "import pandas as pd\n",
    "from sklearn.feature_extraction.text import TfidfVectorizer\n",
    "from fonctions import *\n",
    "\n",
    "# Downloading the necessary datasets for the nltk library\n",
    "# Only downloads if necessary\n",
    "nltk.download(\"stopwords\", quiet=True)\n",
    "nltk.download(\"wordnet\", quiet=True)\n"
   ]
  },
  {
   "cell_type": "markdown",
   "metadata": {},
   "source": [
    "---\n",
    "\n",
    "## Exercice 1 : Acquisition des données\n"
   ]
  },
  {
   "cell_type": "code",
   "execution_count": 23,
   "metadata": {},
   "outputs": [
    {
     "data": {
      "text/html": [
       "<div>\n",
       "<style scoped>\n",
       "    .dataframe tbody tr th:only-of-type {\n",
       "        vertical-align: middle;\n",
       "    }\n",
       "\n",
       "    .dataframe tbody tr th {\n",
       "        vertical-align: top;\n",
       "    }\n",
       "\n",
       "    .dataframe thead th {\n",
       "        text-align: right;\n",
       "    }\n",
       "</style>\n",
       "<table border=\"1\" class=\"dataframe\">\n",
       "  <thead>\n",
       "    <tr style=\"text-align: right;\">\n",
       "      <th></th>\n",
       "      <th>venue</th>\n",
       "      <th>abstract</th>\n",
       "      <th>authors</th>\n",
       "      <th>n_citation</th>\n",
       "      <th>references</th>\n",
       "      <th>title</th>\n",
       "      <th>year</th>\n",
       "      <th>id</th>\n",
       "      <th>class</th>\n",
       "    </tr>\n",
       "  </thead>\n",
       "  <tbody>\n",
       "    <tr>\n",
       "      <th>0</th>\n",
       "      <td>international conference on human-computer int...</td>\n",
       "      <td>The purpose of this study is to develop a lear...</td>\n",
       "      <td>['Makoto Satoh', 'Ryo Muramatsu', 'Mizue Kayam...</td>\n",
       "      <td>0</td>\n",
       "      <td>['51c7e02e-f5ed-431a-8cf5-f761f266d4be', '69b6...</td>\n",
       "      <td>Preliminary Design of a Network Protocol Learn...</td>\n",
       "      <td>2013</td>\n",
       "      <td>00127ee2-cb05-48ce-bc49-9de556b93346</td>\n",
       "      <td>3</td>\n",
       "    </tr>\n",
       "    <tr>\n",
       "      <th>1</th>\n",
       "      <td>visual analytics science and technology</td>\n",
       "      <td>This paper describes the design and implementa...</td>\n",
       "      <td>['Gareth Beale', 'Graeme Earl']</td>\n",
       "      <td>50</td>\n",
       "      <td>['10482dd3-4642-4193-842f-85f3b70fcf65', '3133...</td>\n",
       "      <td>A methodology for the physically accurate visu...</td>\n",
       "      <td>2011</td>\n",
       "      <td>001c58d3-26ad-46b3-ab3a-c1e557d16821</td>\n",
       "      <td>3</td>\n",
       "    </tr>\n",
       "    <tr>\n",
       "      <th>2</th>\n",
       "      <td>pattern recognition and machine intelligence</td>\n",
       "      <td>This article applied GARCH model instead AR or...</td>\n",
       "      <td>['Altaf Hossain', 'Faisal Zaman', 'Mohammed Na...</td>\n",
       "      <td>50</td>\n",
       "      <td>['2d84c0f2-e656-4ce7-b018-90eda1c132fe', 'a083...</td>\n",
       "      <td>Comparison of GARCH, Neural Network and Suppor...</td>\n",
       "      <td>2009</td>\n",
       "      <td>001c8744-73c4-4b04-9364-22d31a10dbf1</td>\n",
       "      <td>4</td>\n",
       "    </tr>\n",
       "    <tr>\n",
       "      <th>3</th>\n",
       "      <td>international conference on computer graphics ...</td>\n",
       "      <td>NaN</td>\n",
       "      <td>['Rafael Álvarez', 'Leandro Tortosa', 'José-Fr...</td>\n",
       "      <td>0</td>\n",
       "      <td>NaN</td>\n",
       "      <td>COMPARING GNG3D AND QUADRIC ERROR METRICS METH...</td>\n",
       "      <td>2009</td>\n",
       "      <td>005ce28f-ed77-4e97-afdc-a296137186a1</td>\n",
       "      <td>5</td>\n",
       "    </tr>\n",
       "    <tr>\n",
       "      <th>4</th>\n",
       "      <td>international symposium on computer and inform...</td>\n",
       "      <td>NaN</td>\n",
       "      <td>['Guzin Ulutas', 'Mustafa Ulutas', 'Vasif V. N...</td>\n",
       "      <td>0</td>\n",
       "      <td>['5626736c-e434-4e2d-8405-54940fab88ab', '8e87...</td>\n",
       "      <td>Improved Secret Image Sharing Method By Encodi...</td>\n",
       "      <td>2011</td>\n",
       "      <td>00701b05-684f-45f9-b281-425abfec482c</td>\n",
       "      <td>8</td>\n",
       "    </tr>\n",
       "  </tbody>\n",
       "</table>\n",
       "</div>"
      ],
      "text/plain": [
       "                                               venue  \\\n",
       "0  international conference on human-computer int...   \n",
       "1            visual analytics science and technology   \n",
       "2       pattern recognition and machine intelligence   \n",
       "3  international conference on computer graphics ...   \n",
       "4  international symposium on computer and inform...   \n",
       "\n",
       "                                            abstract  \\\n",
       "0  The purpose of this study is to develop a lear...   \n",
       "1  This paper describes the design and implementa...   \n",
       "2  This article applied GARCH model instead AR or...   \n",
       "3                                                NaN   \n",
       "4                                                NaN   \n",
       "\n",
       "                                             authors  n_citation  \\\n",
       "0  ['Makoto Satoh', 'Ryo Muramatsu', 'Mizue Kayam...           0   \n",
       "1                    ['Gareth Beale', 'Graeme Earl']          50   \n",
       "2  ['Altaf Hossain', 'Faisal Zaman', 'Mohammed Na...          50   \n",
       "3  ['Rafael Álvarez', 'Leandro Tortosa', 'José-Fr...           0   \n",
       "4  ['Guzin Ulutas', 'Mustafa Ulutas', 'Vasif V. N...           0   \n",
       "\n",
       "                                          references  \\\n",
       "0  ['51c7e02e-f5ed-431a-8cf5-f761f266d4be', '69b6...   \n",
       "1  ['10482dd3-4642-4193-842f-85f3b70fcf65', '3133...   \n",
       "2  ['2d84c0f2-e656-4ce7-b018-90eda1c132fe', 'a083...   \n",
       "3                                                NaN   \n",
       "4  ['5626736c-e434-4e2d-8405-54940fab88ab', '8e87...   \n",
       "\n",
       "                                               title  year  \\\n",
       "0  Preliminary Design of a Network Protocol Learn...  2013   \n",
       "1  A methodology for the physically accurate visu...  2011   \n",
       "2  Comparison of GARCH, Neural Network and Suppor...  2009   \n",
       "3  COMPARING GNG3D AND QUADRIC ERROR METRICS METH...  2009   \n",
       "4  Improved Secret Image Sharing Method By Encodi...  2011   \n",
       "\n",
       "                                     id  class  \n",
       "0  00127ee2-cb05-48ce-bc49-9de556b93346      3  \n",
       "1  001c58d3-26ad-46b3-ab3a-c1e557d16821      3  \n",
       "2  001c8744-73c4-4b04-9364-22d31a10dbf1      4  \n",
       "3  005ce28f-ed77-4e97-afdc-a296137186a1      5  \n",
       "4  00701b05-684f-45f9-b281-425abfec482c      8  "
      ]
     },
     "execution_count": 23,
     "metadata": {},
     "output_type": "execute_result"
    }
   ],
   "source": [
    "# Import data from data_project.csv\n",
    "data = pd.read_csv(\"data_project.csv\", sep=\"\\t\")\n",
    "\n",
    "# Show the first 5 rows of the data\n",
    "data.head()\n"
   ]
  },
  {
   "cell_type": "code",
   "execution_count": 24,
   "metadata": {},
   "outputs": [
    {
     "data": {
      "text/plain": [
       "(40596, 9)"
      ]
     },
     "execution_count": 24,
     "metadata": {},
     "output_type": "execute_result"
    }
   ],
   "source": [
    "data.shape\n"
   ]
  },
  {
   "cell_type": "code",
   "execution_count": 25,
   "metadata": {},
   "outputs": [
    {
     "data": {
      "text/plain": [
       "array([3, 4, 5, 8, 7, 1, 6, 2])"
      ]
     },
     "execution_count": 25,
     "metadata": {},
     "output_type": "execute_result"
    }
   ],
   "source": [
    "data[\"class\"].unique()\n"
   ]
  },
  {
   "cell_type": "markdown",
   "metadata": {},
   "source": [
    "---\n",
    "\n",
    "## Exercice 2: Prétraitement des données\n",
    "\n",
    "### 2.1. Générer le texte sur lequel nous travaillerons\n"
   ]
  },
  {
   "cell_type": "code",
   "execution_count": 26,
   "metadata": {},
   "outputs": [
    {
     "data": {
      "text/html": [
       "<div>\n",
       "<style scoped>\n",
       "    .dataframe tbody tr th:only-of-type {\n",
       "        vertical-align: middle;\n",
       "    }\n",
       "\n",
       "    .dataframe tbody tr th {\n",
       "        vertical-align: top;\n",
       "    }\n",
       "\n",
       "    .dataframe thead th {\n",
       "        text-align: right;\n",
       "    }\n",
       "</style>\n",
       "<table border=\"1\" class=\"dataframe\">\n",
       "  <thead>\n",
       "    <tr style=\"text-align: right;\">\n",
       "      <th></th>\n",
       "      <th>text</th>\n",
       "      <th>venue</th>\n",
       "      <th>abstract</th>\n",
       "      <th>authors</th>\n",
       "      <th>n_citation</th>\n",
       "      <th>references</th>\n",
       "      <th>title</th>\n",
       "      <th>year</th>\n",
       "      <th>id</th>\n",
       "      <th>class</th>\n",
       "    </tr>\n",
       "  </thead>\n",
       "  <tbody>\n",
       "    <tr>\n",
       "      <th>0</th>\n",
       "      <td>Preliminary Design of a Network Protocol Lear...</td>\n",
       "      <td>international conference on human-computer int...</td>\n",
       "      <td>The purpose of this study is to develop a lear...</td>\n",
       "      <td>['Makoto Satoh', 'Ryo Muramatsu', 'Mizue Kayam...</td>\n",
       "      <td>0</td>\n",
       "      <td>['51c7e02e-f5ed-431a-8cf5-f761f266d4be', '69b6...</td>\n",
       "      <td>Preliminary Design of a Network Protocol Learn...</td>\n",
       "      <td>2013</td>\n",
       "      <td>00127ee2-cb05-48ce-bc49-9de556b93346</td>\n",
       "      <td>3</td>\n",
       "    </tr>\n",
       "    <tr>\n",
       "      <th>1</th>\n",
       "      <td>A methodology for the physically accurate vis...</td>\n",
       "      <td>visual analytics science and technology</td>\n",
       "      <td>This paper describes the design and implementa...</td>\n",
       "      <td>['Gareth Beale', 'Graeme Earl']</td>\n",
       "      <td>50</td>\n",
       "      <td>['10482dd3-4642-4193-842f-85f3b70fcf65', '3133...</td>\n",
       "      <td>A methodology for the physically accurate visu...</td>\n",
       "      <td>2011</td>\n",
       "      <td>001c58d3-26ad-46b3-ab3a-c1e557d16821</td>\n",
       "      <td>3</td>\n",
       "    </tr>\n",
       "    <tr>\n",
       "      <th>2</th>\n",
       "      <td>Comparison of GARCH, Neural Network and Suppo...</td>\n",
       "      <td>pattern recognition and machine intelligence</td>\n",
       "      <td>This article applied GARCH model instead AR or...</td>\n",
       "      <td>['Altaf Hossain', 'Faisal Zaman', 'Mohammed Na...</td>\n",
       "      <td>50</td>\n",
       "      <td>['2d84c0f2-e656-4ce7-b018-90eda1c132fe', 'a083...</td>\n",
       "      <td>Comparison of GARCH, Neural Network and Suppor...</td>\n",
       "      <td>2009</td>\n",
       "      <td>001c8744-73c4-4b04-9364-22d31a10dbf1</td>\n",
       "      <td>4</td>\n",
       "    </tr>\n",
       "    <tr>\n",
       "      <th>3</th>\n",
       "      <td>COMPARING GNG3D AND QUADRIC ERROR METRICS MET...</td>\n",
       "      <td>international conference on computer graphics ...</td>\n",
       "      <td></td>\n",
       "      <td>['Rafael Álvarez', 'Leandro Tortosa', 'José-Fr...</td>\n",
       "      <td>0</td>\n",
       "      <td>NaN</td>\n",
       "      <td>COMPARING GNG3D AND QUADRIC ERROR METRICS METH...</td>\n",
       "      <td>2009</td>\n",
       "      <td>005ce28f-ed77-4e97-afdc-a296137186a1</td>\n",
       "      <td>5</td>\n",
       "    </tr>\n",
       "    <tr>\n",
       "      <th>4</th>\n",
       "      <td>Improved Secret Image Sharing Method By Encod...</td>\n",
       "      <td>international symposium on computer and inform...</td>\n",
       "      <td></td>\n",
       "      <td>['Guzin Ulutas', 'Mustafa Ulutas', 'Vasif V. N...</td>\n",
       "      <td>0</td>\n",
       "      <td>['5626736c-e434-4e2d-8405-54940fab88ab', '8e87...</td>\n",
       "      <td>Improved Secret Image Sharing Method By Encodi...</td>\n",
       "      <td>2011</td>\n",
       "      <td>00701b05-684f-45f9-b281-425abfec482c</td>\n",
       "      <td>8</td>\n",
       "    </tr>\n",
       "  </tbody>\n",
       "</table>\n",
       "</div>"
      ],
      "text/plain": [
       "                                                text  \\\n",
       "0   Preliminary Design of a Network Protocol Lear...   \n",
       "1   A methodology for the physically accurate vis...   \n",
       "2   Comparison of GARCH, Neural Network and Suppo...   \n",
       "3   COMPARING GNG3D AND QUADRIC ERROR METRICS MET...   \n",
       "4   Improved Secret Image Sharing Method By Encod...   \n",
       "\n",
       "                                               venue  \\\n",
       "0  international conference on human-computer int...   \n",
       "1            visual analytics science and technology   \n",
       "2       pattern recognition and machine intelligence   \n",
       "3  international conference on computer graphics ...   \n",
       "4  international symposium on computer and inform...   \n",
       "\n",
       "                                            abstract  \\\n",
       "0  The purpose of this study is to develop a lear...   \n",
       "1  This paper describes the design and implementa...   \n",
       "2  This article applied GARCH model instead AR or...   \n",
       "3                                                      \n",
       "4                                                      \n",
       "\n",
       "                                             authors  n_citation  \\\n",
       "0  ['Makoto Satoh', 'Ryo Muramatsu', 'Mizue Kayam...           0   \n",
       "1                    ['Gareth Beale', 'Graeme Earl']          50   \n",
       "2  ['Altaf Hossain', 'Faisal Zaman', 'Mohammed Na...          50   \n",
       "3  ['Rafael Álvarez', 'Leandro Tortosa', 'José-Fr...           0   \n",
       "4  ['Guzin Ulutas', 'Mustafa Ulutas', 'Vasif V. N...           0   \n",
       "\n",
       "                                          references  \\\n",
       "0  ['51c7e02e-f5ed-431a-8cf5-f761f266d4be', '69b6...   \n",
       "1  ['10482dd3-4642-4193-842f-85f3b70fcf65', '3133...   \n",
       "2  ['2d84c0f2-e656-4ce7-b018-90eda1c132fe', 'a083...   \n",
       "3                                                NaN   \n",
       "4  ['5626736c-e434-4e2d-8405-54940fab88ab', '8e87...   \n",
       "\n",
       "                                               title  year  \\\n",
       "0  Preliminary Design of a Network Protocol Learn...  2013   \n",
       "1  A methodology for the physically accurate visu...  2011   \n",
       "2  Comparison of GARCH, Neural Network and Suppor...  2009   \n",
       "3  COMPARING GNG3D AND QUADRIC ERROR METRICS METH...  2009   \n",
       "4  Improved Secret Image Sharing Method By Encodi...  2011   \n",
       "\n",
       "                                     id  class  \n",
       "0  00127ee2-cb05-48ce-bc49-9de556b93346      3  \n",
       "1  001c58d3-26ad-46b3-ab3a-c1e557d16821      3  \n",
       "2  001c8744-73c4-4b04-9364-22d31a10dbf1      4  \n",
       "3  005ce28f-ed77-4e97-afdc-a296137186a1      5  \n",
       "4  00701b05-684f-45f9-b281-425abfec482c      8  "
      ]
     },
     "execution_count": 26,
     "metadata": {},
     "output_type": "execute_result"
    }
   ],
   "source": [
    "# Fill NaN values in 'abstract' and 'title' with empty strings and create 'text'\n",
    "data_text = data.fillna({\"abstract\": \"\", \"title\": \"\"})\n",
    "\n",
    "# Concatenate 'title' and 'abstract' into 'text'\n",
    "data_text[\"text\"] = data_text[\"title\"] + \" \" + data_text[\"abstract\"]\n",
    "\n",
    "# Reposition 'text' as the first column\n",
    "cols = [\"text\"] + [col for col in data_text.columns if col != \"text\"]\n",
    "data_text = data_text[cols]\n",
    "\n",
    "# Show the first 5 rows of the cleaned data\n",
    "data_text.head()\n"
   ]
  },
  {
   "cell_type": "code",
   "execution_count": 27,
   "metadata": {},
   "outputs": [
    {
     "name": "stdout",
     "output_type": "stream",
     "text": [
      " Preliminary Design of a Network Protocol Learning Tool Based on the Comprehension of High School Students: Design by an Empirical Study Using a Simple Mind Map The purpose of this study is to develop a learning tool for high school students studying the scientific aspects of information and communication net- works. More specifically, we focus on the basic principles of network proto- cols as the aim to develop our learning tool. Our tool gives students hands-on experience to help understand the basic principles of network protocols.\n"
     ]
    }
   ],
   "source": [
    "# Show 'text' column of the first row\n",
    "print(data_text[\"text\"][0])\n"
   ]
  },
  {
   "cell_type": "markdown",
   "metadata": {},
   "source": [
    "### 2.2. Prétrairements poussés\n"
   ]
  },
  {
   "cell_type": "markdown",
   "metadata": {},
   "source": [
    "Now, we want to build an index for the data. To do so, we'll :\n",
    "\n",
    "1. Remove punctuation\n",
    "2. Lowercase everything\n",
    "3. Remove useless spaces\n",
    "4. Remove stop-words\n",
    "5. Normalize the data (lemmatization)\n",
    "6. Remove outliers\n"
   ]
  },
  {
   "cell_type": "markdown",
   "metadata": {},
   "source": [
    "#### Punctuation removal :\n"
   ]
  },
  {
   "cell_type": "code",
   "execution_count": 28,
   "metadata": {},
   "outputs": [
    {
     "name": "stdout",
     "output_type": "stream",
     "text": [
      " Preliminary Design of a Network Protocol Learning Tool Based on the Comprehension of High School Students  Design by an Empirical Study Using a Simple Mind Map The purpose of this study is to develop a learning tool for high school students studying the scientific aspects of information and communication net  works  More specifically  we focus on the basic principles of network proto  cols as the aim to develop our learning tool  Our tool gives students hands on experience to help understand the basic principles of network protocols \n"
     ]
    }
   ],
   "source": [
    "# Remove all puntuation from 'text' using regex\n",
    "data_text[\"text\"] = data_text[\"text\"].apply(lambda x: re.sub(r\"[^\\w\\s]\", \" \", x))\n",
    "\n",
    "# Show 'text' column of the first row\n",
    "print(data_text[\"text\"][0])\n"
   ]
  },
  {
   "cell_type": "markdown",
   "metadata": {},
   "source": [
    "#### Lowercase :\n"
   ]
  },
  {
   "cell_type": "code",
   "execution_count": 29,
   "metadata": {},
   "outputs": [
    {
     "name": "stdout",
     "output_type": "stream",
     "text": [
      " preliminary design of a network protocol learning tool based on the comprehension of high school students  design by an empirical study using a simple mind map the purpose of this study is to develop a learning tool for high school students studying the scientific aspects of information and communication net  works  more specifically  we focus on the basic principles of network proto  cols as the aim to develop our learning tool  our tool gives students hands on experience to help understand the basic principles of network protocols \n"
     ]
    }
   ],
   "source": [
    "# Convert 'text' to lowercase\n",
    "data_text[\"text\"] = data_text[\"text\"].str.lower()\n",
    "\n",
    "# Show 'text' column of the first row\n",
    "print(data_text[\"text\"][0])\n"
   ]
  },
  {
   "cell_type": "markdown",
   "metadata": {},
   "source": [
    "#### Spaces :\n"
   ]
  },
  {
   "cell_type": "code",
   "execution_count": 30,
   "metadata": {},
   "outputs": [
    {
     "name": "stdout",
     "output_type": "stream",
     "text": [
      "preliminary design of a network protocol learning tool based on the comprehension of high school students design by an empirical study using a simple mind map the purpose of this study is to develop a learning tool for high school students studying the scientific aspects of information and communication net works more specifically we focus on the basic principles of network proto cols as the aim to develop our learning tool our tool gives students hands on experience to help understand the basic principles of network protocols\n"
     ]
    }
   ],
   "source": [
    "# Remove useless spaces using regex\n",
    "data_text[\"text\"] = data_text[\"text\"].apply(lambda x: re.sub(r\"\\s+\", \" \", x).strip())\n",
    "\n",
    "# Show 'text' column of the first row\n",
    "print(data_text[\"text\"][0])\n"
   ]
  },
  {
   "cell_type": "markdown",
   "metadata": {},
   "source": [
    "#### Stop-words :\n"
   ]
  },
  {
   "cell_type": "code",
   "execution_count": 31,
   "metadata": {},
   "outputs": [],
   "source": [
    "# Remove stop words from 'text' column in data_text\n",
    "from nltk.corpus import stopwords\n",
    "\n",
    "stop_words = set(stopwords.words(\"english\"))\n",
    "data_text[\"text\"] = data_text[\"text\"].apply(\n",
    "    lambda x: \" \".join([word for word in x.split() if word not in stop_words])\n",
    ")\n"
   ]
  },
  {
   "cell_type": "markdown",
   "metadata": {},
   "source": [
    "#### Normalize data (lemming) :\n"
   ]
  },
  {
   "cell_type": "code",
   "execution_count": 32,
   "metadata": {},
   "outputs": [
    {
     "name": "stdout",
     "output_type": "stream",
     "text": [
      "Before :\n",
      "\t preliminary design network protocol learning tool based comprehension high school students design empirical study using simple mind map purpose study develop learning tool high school students studying scientific aspects information communication net works specifically focus basic principles network proto cols aim develop learning tool tool gives students hands experience help understand basic principles network protocols\n",
      "After :\n",
      "\t preliminary design network protocol learning tool based comprehension high school student design empirical study using simple mind map purpose study develop learning tool high school student studying scientific aspect information communication net work specifically focus basic principle network proto col aim develop learning tool tool give student hand experience help understand basic principle network protocol\n"
     ]
    }
   ],
   "source": [
    "# Imports for lemmatization\n",
    "from nltk.stem import WordNetLemmatizer\n",
    "\n",
    "# Define lemmatizer tool\n",
    "lemmatizer = WordNetLemmatizer()\n",
    "\n",
    "# Show the first row to verify the lemmatization\n",
    "print(\"Before :\\n\\t\", data_text[\"text\"][0])\n",
    "\n",
    "# Apply lemmatization to each word in the text\n",
    "data_text[\"text\"] = data_text[\"text\"].apply(\n",
    "    lambda x: \" \".join([lemmatizer.lemmatize(word) for word in x.split()])\n",
    ")\n",
    "\n",
    "# Show the first row to verify the lemmatization\n",
    "print(\"After :\\n\\t\", data_text[\"text\"][0])\n"
   ]
  },
  {
   "cell_type": "markdown",
   "metadata": {},
   "source": [
    "#### Removing outliers :\n"
   ]
  },
  {
   "cell_type": "code",
   "execution_count": 33,
   "metadata": {},
   "outputs": [
    {
     "name": "stderr",
     "output_type": "stream",
     "text": [
      "C:\\Users\\elyes\\AppData\\Local\\Temp\\ipykernel_20532\\499328142.py:3: FutureWarning: \n",
      "\n",
      "Passing `palette` without assigning `hue` is deprecated and will be removed in v0.14.0. Assign the `x` variable to `hue` and set `legend=False` for the same effect.\n",
      "\n",
      "  sns.boxplot(list(word_occurrences(data_text).values()), palette=\"rainbow_r\")\n"
     ]
    },
    {
     "data": {
      "image/png": "[encoded data removed]",
      "text/plain": [
       "<Figure size 1200x800 with 1 Axes>"
      ]
     },
     "metadata": {},
     "output_type": "display_data"
    }
   ],
   "source": [
    "# See if there are outliers in occurrences\n",
    "plt.figure(figsize=(12, 8))\n",
    "sns.boxplot(list(word_occurrences(data_text).values()), palette=\"rainbow_r\")\n",
    "plt.xlabel(\"Word Counts\")\n",
    "plt.title(\"Boxplot of Word Counts\")\n",
    "plt.show()\n"
   ]
  },
  {
   "cell_type": "markdown",
   "metadata": {},
   "source": [
    "Most words seem to be outliers. This means that a majority of words appear relatively few times in the dataset, whereas more common words appear significantly more often. This is a common pattern in natural language, and is known as Zipf's law.\n"
   ]
  },
  {
   "cell_type": "code",
   "execution_count": 34,
   "metadata": {},
   "outputs": [
    {
     "name": "stdout",
     "output_type": "stream",
     "text": [
      "Words that appear less than 1 times will be removed.\n",
      "Words that appear more than 17338 times will be removed.\n"
     ]
    }
   ],
   "source": [
    "occurrences = word_occurrences(data_text)\n",
    "\n",
    "# Define limits as 10th and 90th percentiles\n",
    "min_occurrences = round(pd.Series(occurrences).quantile(0.80))\n",
    "max_occurrences = round(pd.Series(occurrences).quantile(0.99))\n",
    "\n",
    "# Crush previous values because it ruins the search...\n",
    "min_occurrences = round(pd.Series(occurrences).quantile(0))\n",
    "max_occurrences = round(pd.Series(occurrences).quantile(1))\n",
    "\n",
    "\n",
    "print(f\"Words that appear less than {min_occurrences} times will be removed.\")\n",
    "print(f\"Words that appear more than {max_occurrences} times will be removed.\")\n",
    "\n",
    "# Identify words that have more than max_occurrences occurrences\n",
    "high_outliers = {\n",
    "    word: count for word, count in occurrences.items() if count > max_occurrences\n",
    "}\n",
    "\n",
    "# Identify words that have less than min_occurrences occurrences\n",
    "low_outliers = {\n",
    "    word: count for word, count in occurrences.items() if count < min_occurrences\n",
    "}\n",
    "\n",
    "# print(\"High outliers:\", high_outliers)\n",
    "# print(\"Low outliers:\", low_outliers)\n",
    "\n",
    "# Remove words that are in high_outliers and low_outliers from 'text' column in data_text\n",
    "data_text[\"text\"] = data_text[\"text\"].apply(\n",
    "    lambda x: \" \".join(\n",
    "        [\n",
    "            word\n",
    "            for word in x.split()\n",
    "            if word not in high_outliers and word not in low_outliers\n",
    "        ]\n",
    "    )\n",
    ")\n"
   ]
  },
  {
   "cell_type": "code",
   "execution_count": 35,
   "metadata": {},
   "outputs": [
    {
     "name": "stdout",
     "output_type": "stream",
     "text": [
      "Number of unique words before removing outliers : 55587\n",
      "Number of unique words after removing outliers  : 55587\n",
      "Difference (number of words removed)            :     0\n"
     ]
    }
   ],
   "source": [
    "before = len(occurrences)\n",
    "after = len(word_occurrences(data_text))\n",
    "difference = before - after\n",
    "\n",
    "print(f\"Number of unique words before removing outliers : {before:5.0f}\")\n",
    "print(f\"Number of unique words after removing outliers  : {after:5.0f}\")\n",
    "print(f\"Difference (number of words removed)            : {difference:5.0f}\")\n"
   ]
  },
  {
   "cell_type": "code",
   "execution_count": 36,
   "metadata": {},
   "outputs": [
    {
     "name": "stderr",
     "output_type": "stream",
     "text": [
      "C:\\Users\\elyes\\AppData\\Local\\Temp\\ipykernel_20532\\499328142.py:3: FutureWarning: \n",
      "\n",
      "Passing `palette` without assigning `hue` is deprecated and will be removed in v0.14.0. Assign the `x` variable to `hue` and set `legend=False` for the same effect.\n",
      "\n",
      "  sns.boxplot(list(word_occurrences(data_text).values()), palette=\"rainbow_r\")\n"
     ]
    },
    {
     "data": {
      "image/png": "[encoded data removed]",
      "text/plain": [
       "<Figure size 1200x800 with 1 Axes>"
      ]
     },
     "metadata": {},
     "output_type": "display_data"
    }
   ],
   "source": [
    "# See if there are outliers in occurrences\n",
    "plt.figure(figsize=(12, 8))\n",
    "sns.boxplot(list(word_occurrences(data_text).values()), palette=\"rainbow_r\")\n",
    "plt.xlabel(\"Word Counts\")\n",
    "plt.title(\"Boxplot of Word Counts\")\n",
    "plt.show()\n"
   ]
  },
  {
   "cell_type": "markdown",
   "metadata": {},
   "source": [
    "With all that done and out of the way, let's save the data to a file and visualize what we're working with\n"
   ]
  },
  {
   "cell_type": "code",
   "execution_count": 37,
   "metadata": {},
   "outputs": [
    {
     "name": "stderr",
     "output_type": "stream",
     "text": [
      "c:\\Users\\elyes\\Desktop\\MALIA\\NetworkAnalysis_SearchEngine\\fonctions.py:37: FutureWarning: \n",
      "\n",
      "Passing `palette` without assigning `hue` is deprecated and will be removed in v0.14.0. Assign the `x` variable to `hue` and set `legend=False` for the same effect.\n",
      "\n",
      "  ax = sns.barplot(x=list(plot_words), y=list(counts), palette=\"rainbow_r\")\n"
     ]
    },
    {
     "data": {
      "image/png": "[encoded data removed]",
      "text/plain": [
       "<Figure size 1200x800 with 1 Axes>"
      ]
     },
     "metadata": {},
     "output_type": "display_data"
    }
   ],
   "source": [
    "# Save data_text variable as a CSV file\n",
    "data_text.to_csv(\"data_text.csv\", index=False)\n",
    "\n",
    "_ = word_occurrences(data_text, visualisation=True)\n"
   ]
  },
  {
   "cell_type": "markdown",
   "metadata": {},
   "source": [
    "---\n",
    "\n",
    "## Exercice 3: Mise en place du moteur de recherche\n",
    "\n",
    "Nous allons maintenant construire la matrice Documents x Termes en adoprant le schéma de pondération TF-IDF\n"
   ]
  },
  {
   "cell_type": "code",
   "execution_count": 38,
   "metadata": {},
   "outputs": [
    {
     "name": "stdout",
     "output_type": "stream",
     "text": [
      "(40596, 55513)\n",
      "(40596, 55513)\n"
     ]
    }
   ],
   "source": [
    "# Define the vectorizer\n",
    "tf_vectorizer = TfidfVectorizer(use_idf=False)\n",
    "tfidf_vectorizer = TfidfVectorizer(use_idf=True)\n",
    "\n",
    "# Fit and transform the vectorizer on the 'text' column\n",
    "X_tf = tf_vectorizer.fit_transform(data_text[\"text\"])\n",
    "X_tfidf = tfidf_vectorizer.fit_transform(data_text[\"text\"])\n",
    "\n",
    "# Show the shape of the resulting matrix\n",
    "print(X_tf.shape)\n",
    "print(X_tfidf.shape)\n"
   ]
  },
  {
   "cell_type": "code",
   "execution_count": 39,
   "metadata": {},
   "outputs": [
    {
     "name": "stdout",
     "output_type": "stream",
     "text": [
      "Top 5 document IDs corresponding to your query: [38642 29891  2250 39347 26507]\n",
      "Similarity scores for the found documents: [0.47185015 0.43306151 0.38312036 0.36302589 0.36029983]\n"
     ]
    },
    {
     "data": {
      "text/html": [
       "<div>\n",
       "<style scoped>\n",
       "    .dataframe tbody tr th:only-of-type {\n",
       "        vertical-align: middle;\n",
       "    }\n",
       "\n",
       "    .dataframe tbody tr th {\n",
       "        vertical-align: top;\n",
       "    }\n",
       "\n",
       "    .dataframe thead th {\n",
       "        text-align: right;\n",
       "    }\n",
       "</style>\n",
       "<table border=\"1\" class=\"dataframe\">\n",
       "  <thead>\n",
       "    <tr style=\"text-align: right;\">\n",
       "      <th></th>\n",
       "      <th>text</th>\n",
       "      <th>venue</th>\n",
       "      <th>abstract</th>\n",
       "      <th>authors</th>\n",
       "      <th>n_citation</th>\n",
       "      <th>references</th>\n",
       "      <th>title</th>\n",
       "      <th>year</th>\n",
       "      <th>id</th>\n",
       "      <th>class</th>\n",
       "    </tr>\n",
       "  </thead>\n",
       "  <tbody>\n",
       "    <tr>\n",
       "      <th>38642</th>\n",
       "      <td>privacy security database solution</td>\n",
       "      <td>very large data bases</td>\n",
       "      <td></td>\n",
       "      <td>['George I. Davida']</td>\n",
       "      <td>0</td>\n",
       "      <td>NaN</td>\n",
       "      <td>Privacy, Security and Databases: Any Solutions?</td>\n",
       "      <td>1978</td>\n",
       "      <td>c5ec19e2-df7e-4316-858c-66dda8044e7f</td>\n",
       "      <td>2</td>\n",
       "    </tr>\n",
       "    <tr>\n",
       "      <th>29891</th>\n",
       "      <td>application in alignment calibration</td>\n",
       "      <td>international conference on robotics and autom...</td>\n",
       "      <td></td>\n",
       "      <td>['Xiaoying Kong', 'Eduardo Mario Nebot', 'Hugh...</td>\n",
       "      <td>0</td>\n",
       "      <td>NaN</td>\n",
       "      <td>Application in INS Alignment and Calibration.</td>\n",
       "      <td>1999</td>\n",
       "      <td>c5ca9947-a76e-4a76-8e6c-994a0d3edde2</td>\n",
       "      <td>1</td>\n",
       "    </tr>\n",
       "    <tr>\n",
       "      <th>2250</th>\n",
       "      <td>privacy web</td>\n",
       "      <td>information security for south africa</td>\n",
       "      <td></td>\n",
       "      <td>['Wesley Brandi']</td>\n",
       "      <td>2</td>\n",
       "      <td>['536ff266-96d5-47f8-80a1-9d6b3d0358ca', 'b071...</td>\n",
       "      <td>On Privacy And The Web.</td>\n",
       "      <td>2004</td>\n",
       "      <td>e3bea37c-8ce0-4ab4-8cbf-b647d1cbdd6a</td>\n",
       "      <td>5</td>\n",
       "    </tr>\n",
       "    <tr>\n",
       "      <th>39347</th>\n",
       "      <td>challenge opportunity security differential pr...</td>\n",
       "      <td>international conference on information system...</td>\n",
       "      <td>Differential Privacy has recently emerged as a...</td>\n",
       "      <td>['Chris Clifton', 'Balamurugan Anandan']</td>\n",
       "      <td>6</td>\n",
       "      <td>['1b383345-1644-4913-ae8a-f252d55cb074', '2e2d...</td>\n",
       "      <td>Challenges and Opportunities for Security with...</td>\n",
       "      <td>2013</td>\n",
       "      <td>1adcd7ba-b089-4de5-a627-28e08d86651c</td>\n",
       "      <td>5</td>\n",
       "    </tr>\n",
       "    <tr>\n",
       "      <th>26507</th>\n",
       "      <td>editorial digital investigation security privacy</td>\n",
       "      <td>Digital Investigation</td>\n",
       "      <td></td>\n",
       "      <td>['Eoghan Casey']</td>\n",
       "      <td>0</td>\n",
       "      <td>NaN</td>\n",
       "      <td>Editorial: Digital investigations, security an...</td>\n",
       "      <td>2010</td>\n",
       "      <td>2b34ba56-84bd-4d75-896d-df09f3ed54c4</td>\n",
       "      <td>5</td>\n",
       "    </tr>\n",
       "  </tbody>\n",
       "</table>\n",
       "</div>"
      ],
      "text/plain": [
       "                                                    text  \\\n",
       "38642                 privacy security database solution   \n",
       "29891               application in alignment calibration   \n",
       "2250                                         privacy web   \n",
       "39347  challenge opportunity security differential pr...   \n",
       "26507   editorial digital investigation security privacy   \n",
       "\n",
       "                                                   venue  \\\n",
       "38642                              very large data bases   \n",
       "29891  international conference on robotics and autom...   \n",
       "2250               information security for south africa   \n",
       "39347  international conference on information system...   \n",
       "26507                              Digital Investigation   \n",
       "\n",
       "                                                abstract  \\\n",
       "38642                                                      \n",
       "29891                                                      \n",
       "2250                                                       \n",
       "39347  Differential Privacy has recently emerged as a...   \n",
       "26507                                                      \n",
       "\n",
       "                                                 authors  n_citation  \\\n",
       "38642                               ['George I. Davida']           0   \n",
       "29891  ['Xiaoying Kong', 'Eduardo Mario Nebot', 'Hugh...           0   \n",
       "2250                                   ['Wesley Brandi']           2   \n",
       "39347           ['Chris Clifton', 'Balamurugan Anandan']           6   \n",
       "26507                                   ['Eoghan Casey']           0   \n",
       "\n",
       "                                              references  \\\n",
       "38642                                                NaN   \n",
       "29891                                                NaN   \n",
       "2250   ['536ff266-96d5-47f8-80a1-9d6b3d0358ca', 'b071...   \n",
       "39347  ['1b383345-1644-4913-ae8a-f252d55cb074', '2e2d...   \n",
       "26507                                                NaN   \n",
       "\n",
       "                                                   title  year  \\\n",
       "38642    Privacy, Security and Databases: Any Solutions?  1978   \n",
       "29891      Application in INS Alignment and Calibration.  1999   \n",
       "2250                             On Privacy And The Web.  2004   \n",
       "39347  Challenges and Opportunities for Security with...  2013   \n",
       "26507  Editorial: Digital investigations, security an...  2010   \n",
       "\n",
       "                                         id  class  \n",
       "38642  c5ec19e2-df7e-4316-858c-66dda8044e7f      2  \n",
       "29891  c5ca9947-a76e-4a76-8e6c-994a0d3edde2      1  \n",
       "2250   e3bea37c-8ce0-4ab4-8cbf-b647d1cbdd6a      5  \n",
       "39347  1adcd7ba-b089-4de5-a627-28e08d86651c      5  \n",
       "26507  2b34ba56-84bd-4d75-896d-df09f3ed54c4      5  "
      ]
     },
     "execution_count": 39,
     "metadata": {},
     "output_type": "execute_result"
    }
   ],
   "source": [
    "requete = \"security and privacy in machine learning\"\n",
    "\n",
    "print_top5_cosine_similar_documents(\n",
    "    requete, tf_vectorizer, tfidf_vectorizer, X_tf, X_tfidf, data_text, idf=True\n",
    ")\n"
   ]
  },
  {
   "cell_type": "code",
   "execution_count": 40,
   "metadata": {},
   "outputs": [
    {
     "name": "stdout",
     "output_type": "stream",
     "text": [
      "Top 5 document IDs corresponding to your query: [38642 26165 25141 30218 33050]\n",
      "Similarity scores for the found documents: [0.4472136 0.4472136 0.4472136 0.4472136 0.4472136]\n"
     ]
    },
    {
     "data": {
      "text/html": [
       "<div>\n",
       "<style scoped>\n",
       "    .dataframe tbody tr th:only-of-type {\n",
       "        vertical-align: middle;\n",
       "    }\n",
       "\n",
       "    .dataframe tbody tr th {\n",
       "        vertical-align: top;\n",
       "    }\n",
       "\n",
       "    .dataframe thead th {\n",
       "        text-align: right;\n",
       "    }\n",
       "</style>\n",
       "<table border=\"1\" class=\"dataframe\">\n",
       "  <thead>\n",
       "    <tr style=\"text-align: right;\">\n",
       "      <th></th>\n",
       "      <th>text</th>\n",
       "      <th>venue</th>\n",
       "      <th>abstract</th>\n",
       "      <th>authors</th>\n",
       "      <th>n_citation</th>\n",
       "      <th>references</th>\n",
       "      <th>title</th>\n",
       "      <th>year</th>\n",
       "      <th>id</th>\n",
       "      <th>class</th>\n",
       "    </tr>\n",
       "  </thead>\n",
       "  <tbody>\n",
       "    <tr>\n",
       "      <th>38642</th>\n",
       "      <td>privacy security database solution</td>\n",
       "      <td>very large data bases</td>\n",
       "      <td></td>\n",
       "      <td>['George I. Davida']</td>\n",
       "      <td>0</td>\n",
       "      <td>NaN</td>\n",
       "      <td>Privacy, Security and Databases: Any Solutions?</td>\n",
       "      <td>1978</td>\n",
       "      <td>c5ec19e2-df7e-4316-858c-66dda8044e7f</td>\n",
       "      <td>2</td>\n",
       "    </tr>\n",
       "    <tr>\n",
       "      <th>26165</th>\n",
       "      <td>machine learning relevance feedback</td>\n",
       "      <td>text retrieval conference</td>\n",
       "      <td></td>\n",
       "      <td>['Norbert Fuhr', 'Stephen Robertson']</td>\n",
       "      <td>1</td>\n",
       "      <td>NaN</td>\n",
       "      <td>Machine Learning and Relevance Feedback.</td>\n",
       "      <td>1992</td>\n",
       "      <td>24b533e3-2854-4bf3-b9c1-fa3dcde053b0</td>\n",
       "      <td>1</td>\n",
       "    </tr>\n",
       "    <tr>\n",
       "      <th>25141</th>\n",
       "      <td>learning hebrew root machine learning linguist...</td>\n",
       "      <td>empirical methods in natural language processing</td>\n",
       "      <td></td>\n",
       "      <td>['Ezra Daya', 'Dan Roth', 'Shuly Wintner']</td>\n",
       "      <td>17</td>\n",
       "      <td>['33be5831-a974-427d-9f76-4dbfa4f9ebbe', '543e...</td>\n",
       "      <td>Learning Hebrew Roots: Machine Learning with L...</td>\n",
       "      <td>2004</td>\n",
       "      <td>8d45362d-3554-44a2-a64f-ca09cddcbda3</td>\n",
       "      <td>7</td>\n",
       "    </tr>\n",
       "    <tr>\n",
       "      <th>30218</th>\n",
       "      <td>machine learning credible classification</td>\n",
       "      <td>australian joint conference on artificial inte...</td>\n",
       "      <td></td>\n",
       "      <td>['Howard J. Hamilton', 'Ning Shan', 'Wojciech ...</td>\n",
       "      <td>53</td>\n",
       "      <td>['0a3db0e1-415d-4481-b8fc-92dab5778294', '1d3a...</td>\n",
       "      <td>Machine Learning of Credible Classifications</td>\n",
       "      <td>1997</td>\n",
       "      <td>eb963c5d-05b3-4385-a6cd-6b1614397777</td>\n",
       "      <td>1</td>\n",
       "    </tr>\n",
       "    <tr>\n",
       "      <th>33050</th>\n",
       "      <td>sparse representation machine learning</td>\n",
       "      <td>canadian conference on artificial intelligence</td>\n",
       "      <td></td>\n",
       "      <td>['Yifeng Li']</td>\n",
       "      <td>3</td>\n",
       "      <td>['0276576b-4fc9-42c5-b3d2-264e8b1d0d75', '06dc...</td>\n",
       "      <td>Sparse Representation for Machine Learning</td>\n",
       "      <td>2013</td>\n",
       "      <td>3be5b6aa-8171-4ec6-8c2d-142b332bd66b</td>\n",
       "      <td>2</td>\n",
       "    </tr>\n",
       "  </tbody>\n",
       "</table>\n",
       "</div>"
      ],
      "text/plain": [
       "                                                    text  \\\n",
       "38642                 privacy security database solution   \n",
       "26165                machine learning relevance feedback   \n",
       "25141  learning hebrew root machine learning linguist...   \n",
       "30218           machine learning credible classification   \n",
       "33050             sparse representation machine learning   \n",
       "\n",
       "                                                   venue abstract  \\\n",
       "38642                              very large data bases            \n",
       "26165                          text retrieval conference            \n",
       "25141   empirical methods in natural language processing            \n",
       "30218  australian joint conference on artificial inte...            \n",
       "33050     canadian conference on artificial intelligence            \n",
       "\n",
       "                                                 authors  n_citation  \\\n",
       "38642                               ['George I. Davida']           0   \n",
       "26165              ['Norbert Fuhr', 'Stephen Robertson']           1   \n",
       "25141         ['Ezra Daya', 'Dan Roth', 'Shuly Wintner']          17   \n",
       "30218  ['Howard J. Hamilton', 'Ning Shan', 'Wojciech ...          53   \n",
       "33050                                      ['Yifeng Li']           3   \n",
       "\n",
       "                                              references  \\\n",
       "38642                                                NaN   \n",
       "26165                                                NaN   \n",
       "25141  ['33be5831-a974-427d-9f76-4dbfa4f9ebbe', '543e...   \n",
       "30218  ['0a3db0e1-415d-4481-b8fc-92dab5778294', '1d3a...   \n",
       "33050  ['0276576b-4fc9-42c5-b3d2-264e8b1d0d75', '06dc...   \n",
       "\n",
       "                                                   title  year  \\\n",
       "38642    Privacy, Security and Databases: Any Solutions?  1978   \n",
       "26165           Machine Learning and Relevance Feedback.  1992   \n",
       "25141  Learning Hebrew Roots: Machine Learning with L...  2004   \n",
       "30218       Machine Learning of Credible Classifications  1997   \n",
       "33050         Sparse Representation for Machine Learning  2013   \n",
       "\n",
       "                                         id  class  \n",
       "38642  c5ec19e2-df7e-4316-858c-66dda8044e7f      2  \n",
       "26165  24b533e3-2854-4bf3-b9c1-fa3dcde053b0      1  \n",
       "25141  8d45362d-3554-44a2-a64f-ca09cddcbda3      7  \n",
       "30218  eb963c5d-05b3-4385-a6cd-6b1614397777      1  \n",
       "33050  3be5b6aa-8171-4ec6-8c2d-142b332bd66b      2  "
      ]
     },
     "execution_count": 40,
     "metadata": {},
     "output_type": "execute_result"
    }
   ],
   "source": [
    "print_top5_cosine_similar_documents(\n",
    "    requete, tf_vectorizer, tfidf_vectorizer, X_tf, X_tfidf, data_text, idf=False\n",
    ")\n"
   ]
  },
  {
   "cell_type": "code",
   "execution_count": 41,
   "metadata": {},
   "outputs": [
    {
     "name": "stdout",
     "output_type": "stream",
     "text": [
      "TF    : [27094 38642 30218 26165 25141] | [1.         1.05146222 1.05146222 1.05146222 1.05146222]\n"
     ]
    },
    {
     "data": {
      "text/html": [
       "<div>\n",
       "<style scoped>\n",
       "    .dataframe tbody tr th:only-of-type {\n",
       "        vertical-align: middle;\n",
       "    }\n",
       "\n",
       "    .dataframe tbody tr th {\n",
       "        vertical-align: top;\n",
       "    }\n",
       "\n",
       "    .dataframe thead th {\n",
       "        text-align: right;\n",
       "    }\n",
       "</style>\n",
       "<table border=\"1\" class=\"dataframe\">\n",
       "  <thead>\n",
       "    <tr style=\"text-align: right;\">\n",
       "      <th></th>\n",
       "      <th>text</th>\n",
       "      <th>venue</th>\n",
       "      <th>abstract</th>\n",
       "      <th>authors</th>\n",
       "      <th>n_citation</th>\n",
       "      <th>references</th>\n",
       "      <th>title</th>\n",
       "      <th>year</th>\n",
       "      <th>id</th>\n",
       "      <th>class</th>\n",
       "    </tr>\n",
       "  </thead>\n",
       "  <tbody>\n",
       "    <tr>\n",
       "      <th>27094</th>\n",
       "      <td></td>\n",
       "      <td>parallel computing</td>\n",
       "      <td></td>\n",
       "      <td>['Jesper Larsson Träff', 'Robert A. van de Gei...</td>\n",
       "      <td>50</td>\n",
       "      <td>['0765c622-f55e-4ba5-8d32-1326a490941a', '1de3...</td>\n",
       "      <td>All-to-All</td>\n",
       "      <td>2011</td>\n",
       "      <td>706de0e6-2452-4eb7-af56-9286f4ebaad2</td>\n",
       "      <td>5</td>\n",
       "    </tr>\n",
       "    <tr>\n",
       "      <th>38642</th>\n",
       "      <td>privacy security database solution</td>\n",
       "      <td>very large data bases</td>\n",
       "      <td></td>\n",
       "      <td>['George I. Davida']</td>\n",
       "      <td>0</td>\n",
       "      <td>NaN</td>\n",
       "      <td>Privacy, Security and Databases: Any Solutions?</td>\n",
       "      <td>1978</td>\n",
       "      <td>c5ec19e2-df7e-4316-858c-66dda8044e7f</td>\n",
       "      <td>2</td>\n",
       "    </tr>\n",
       "    <tr>\n",
       "      <th>30218</th>\n",
       "      <td>machine learning credible classification</td>\n",
       "      <td>australian joint conference on artificial inte...</td>\n",
       "      <td></td>\n",
       "      <td>['Howard J. Hamilton', 'Ning Shan', 'Wojciech ...</td>\n",
       "      <td>53</td>\n",
       "      <td>['0a3db0e1-415d-4481-b8fc-92dab5778294', '1d3a...</td>\n",
       "      <td>Machine Learning of Credible Classifications</td>\n",
       "      <td>1997</td>\n",
       "      <td>eb963c5d-05b3-4385-a6cd-6b1614397777</td>\n",
       "      <td>1</td>\n",
       "    </tr>\n",
       "    <tr>\n",
       "      <th>26165</th>\n",
       "      <td>machine learning relevance feedback</td>\n",
       "      <td>text retrieval conference</td>\n",
       "      <td></td>\n",
       "      <td>['Norbert Fuhr', 'Stephen Robertson']</td>\n",
       "      <td>1</td>\n",
       "      <td>NaN</td>\n",
       "      <td>Machine Learning and Relevance Feedback.</td>\n",
       "      <td>1992</td>\n",
       "      <td>24b533e3-2854-4bf3-b9c1-fa3dcde053b0</td>\n",
       "      <td>1</td>\n",
       "    </tr>\n",
       "    <tr>\n",
       "      <th>25141</th>\n",
       "      <td>learning hebrew root machine learning linguist...</td>\n",
       "      <td>empirical methods in natural language processing</td>\n",
       "      <td></td>\n",
       "      <td>['Ezra Daya', 'Dan Roth', 'Shuly Wintner']</td>\n",
       "      <td>17</td>\n",
       "      <td>['33be5831-a974-427d-9f76-4dbfa4f9ebbe', '543e...</td>\n",
       "      <td>Learning Hebrew Roots: Machine Learning with L...</td>\n",
       "      <td>2004</td>\n",
       "      <td>8d45362d-3554-44a2-a64f-ca09cddcbda3</td>\n",
       "      <td>7</td>\n",
       "    </tr>\n",
       "  </tbody>\n",
       "</table>\n",
       "</div>"
      ],
      "text/plain": [
       "                                                    text  \\\n",
       "27094                                                      \n",
       "38642                 privacy security database solution   \n",
       "30218           machine learning credible classification   \n",
       "26165                machine learning relevance feedback   \n",
       "25141  learning hebrew root machine learning linguist...   \n",
       "\n",
       "                                                   venue abstract  \\\n",
       "27094                                 parallel computing            \n",
       "38642                              very large data bases            \n",
       "30218  australian joint conference on artificial inte...            \n",
       "26165                          text retrieval conference            \n",
       "25141   empirical methods in natural language processing            \n",
       "\n",
       "                                                 authors  n_citation  \\\n",
       "27094  ['Jesper Larsson Träff', 'Robert A. van de Gei...          50   \n",
       "38642                               ['George I. Davida']           0   \n",
       "30218  ['Howard J. Hamilton', 'Ning Shan', 'Wojciech ...          53   \n",
       "26165              ['Norbert Fuhr', 'Stephen Robertson']           1   \n",
       "25141         ['Ezra Daya', 'Dan Roth', 'Shuly Wintner']          17   \n",
       "\n",
       "                                              references  \\\n",
       "27094  ['0765c622-f55e-4ba5-8d32-1326a490941a', '1de3...   \n",
       "38642                                                NaN   \n",
       "30218  ['0a3db0e1-415d-4481-b8fc-92dab5778294', '1d3a...   \n",
       "26165                                                NaN   \n",
       "25141  ['33be5831-a974-427d-9f76-4dbfa4f9ebbe', '543e...   \n",
       "\n",
       "                                                   title  year  \\\n",
       "27094                                         All-to-All  2011   \n",
       "38642    Privacy, Security and Databases: Any Solutions?  1978   \n",
       "30218       Machine Learning of Credible Classifications  1997   \n",
       "26165           Machine Learning and Relevance Feedback.  1992   \n",
       "25141  Learning Hebrew Roots: Machine Learning with L...  2004   \n",
       "\n",
       "                                         id  class  \n",
       "27094  706de0e6-2452-4eb7-af56-9286f4ebaad2      5  \n",
       "38642  c5ec19e2-df7e-4316-858c-66dda8044e7f      2  \n",
       "30218  eb963c5d-05b3-4385-a6cd-6b1614397777      1  \n",
       "26165  24b533e3-2854-4bf3-b9c1-fa3dcde053b0      1  \n",
       "25141  8d45362d-3554-44a2-a64f-ca09cddcbda3      7  "
      ]
     },
     "execution_count": 41,
     "metadata": {},
     "output_type": "execute_result"
    }
   ],
   "source": [
    "print_top5_euclidian_similar_documents(\n",
    "    requete, tf_vectorizer, tfidf_vectorizer, X_tf, X_tfidf, data_text\n",
    ")\n"
   ]
  },
  {
   "cell_type": "markdown",
   "metadata": {},
   "source": [
    "Talk about :\n",
    "\n",
    "- TF requiring stopwords removed, and TDIDF requiring stop words not removed\n",
    "- Euclidian distances donc function in higher dimensions (if you do TF and TFIDF scores with euclidian distances, you'll get the exact same score every time (curse of high dimensionnality))\n",
    "- Don't remove stopwords ?\n"
   ]
  },
  {
   "cell_type": "code",
   "execution_count": 42,
   "metadata": {},
   "outputs": [],
   "source": [
    "# save X_tf and X_tfidf as numpy matrix\n",
    "np.save(\"X_tf.npy\", X_tf)\n",
    "np.save(\"X_tfidf.npy\", X_tfidf)\n"
   ]
  }
 ],
 "metadata": {
  "kernelspec": {
   "display_name": "env_netanalysis",
   "language": "python",
   "name": "python3"
  },
  "language_info": {
   "codemirror_mode": {
    "name": "ipython",
    "version": 3
   },
   "file_extension": ".py",
   "mimetype": "text/x-python",
   "name": "python",
   "nbconvert_exporter": "python",
   "pygments_lexer": "ipython3",
   "version": "3.12.9"
  }
 },
 "nbformat": 4,
 "nbformat_minor": 2
}
